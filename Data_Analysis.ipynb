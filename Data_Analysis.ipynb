{
  "nbformat": 4,
  "nbformat_minor": 0,
  "metadata": {
    "colab": {
      "name": "Data Analysis.ipynb",
      "provenance": [],
      "authorship_tag": "ABX9TyNlbKmmrqt2ILjiTikZ85oq",
      "include_colab_link": true
    },
    "kernelspec": {
      "name": "ir",
      "display_name": "R"
    }
  },
  "cells": [
    {
      "cell_type": "markdown",
      "metadata": {
        "id": "view-in-github",
        "colab_type": "text"
      },
      "source": [
        "<a href=\"https://colab.research.google.com/github/David-dmh/Warehouse-Data-Analysis/blob/main/Data_Analysis.ipynb\" target=\"_parent\"><img src=\"https://colab.research.google.com/assets/colab-badge.svg\" alt=\"Open In Colab\"/></a>"
      ]
    },
    {
      "cell_type": "code",
      "metadata": {
        "colab": {
          "base_uri": "https://localhost:8080/"
        },
        "id": "cG43_B48T6KC",
        "outputId": "8999210f-984f-48e1-a9f6-aff19a460dd6"
      },
      "source": [
        "install.packages(\"googledrive\")\r\n",
        "library(\"googledrive\")"
      ],
      "execution_count": 1,
      "outputs": [
        {
          "output_type": "stream",
          "text": [
            "Installing package into ‘/usr/local/lib/R/site-library’\n",
            "(as ‘lib’ is unspecified)\n",
            "\n",
            "also installing the dependency ‘gargle’\n",
            "\n",
            "\n"
          ],
          "name": "stderr"
        }
      ]
    },
    {
      "cell_type": "code",
      "metadata": {
        "colab": {
          "base_uri": "https://localhost:8080/",
          "height": 316
        },
        "id": "iTOqsx6_ZLI4",
        "outputId": "cd720f4b-5d6c-4ec3-d8b5-7e8e588ab334"
      },
      "source": [
        "drive_auth(\r\n",
        "  email = gargle::gargle_oauth_email(),\r\n",
        "  path = NULL,\r\n",
        "  scopes = \"https://www.googleapis.com/auth/drive\",\r\n",
        "  cache = gargle::gargle_oauth_cache(),\r\n",
        "  use_oob = gargle::gargle_oob_default(),\r\n",
        "  token = NULL\r\n",
        ")"
      ],
      "execution_count": 2,
      "outputs": [
        {
          "output_type": "error",
          "ename": "ERROR",
          "evalue": "ignored",
          "traceback": [
            "Error: Can't get Google credentials.\nAre you running googledrive in a non-interactive session? Consider:\n  * `drive_deauth()` to prevent the attempt to get credentials.\n  * Call `drive_auth()` directly with all necessary specifics.\n  * Read more in: https://gargle.r-lib.org/articles/non-interactive-auth.html\nTraceback:\n",
            "1. drive_auth(email = gargle::gargle_oauth_email(), path = NULL, \n .     scopes = \"https://www.googleapis.com/auth/drive\", cache = gargle::gargle_oauth_cache(), \n .     use_oob = gargle::gargle_oob_default(), token = NULL)",
            "2. stop(\"Can't get Google credentials.\\n\", \"Are you running googledrive in a non-interactive session? Consider:\\n\", \n .     \"  * `drive_deauth()` to prevent the attempt to get credentials.\\n\", \n .     \"  * Call `drive_auth()` directly with all necessary specifics.\\n\", \n .     \"  * Read more in: https://gargle.r-lib.org/articles/non-interactive-auth.html\", \n .     call. = FALSE)"
          ]
        }
      ]
    },
    {
      "cell_type": "code",
      "metadata": {
        "colab": {
          "base_uri": "https://localhost:8080/"
        },
        "id": "EUu1fldCZb2L",
        "outputId": "eba0bff7-80e1-4bcd-b195-66c29632c06a"
      },
      "source": [
        "# Check if is running in Colab and redefine is_interactive()\r\n",
        "if (file.exists(\"/usr/local/lib/python3.6/dist-packages/google/colab/_ipython.py\")) {\r\n",
        "  install.packages(\"R.utils\")\r\n",
        "  library(\"R.utils\")\r\n",
        "  library(\"httr\")\r\n",
        "  my_check <- function() {return(TRUE)}\r\n",
        "  reassignInPackage(\"is_interactive\", pkgName = \"httr\", my_check) \r\n",
        "  options(rlang_interactive=TRUE)\r\n",
        "}"
      ],
      "execution_count": 3,
      "outputs": [
        {
          "output_type": "stream",
          "text": [
            "Installing package into ‘/usr/local/lib/R/site-library’\n",
            "(as ‘lib’ is unspecified)\n",
            "\n",
            "also installing the dependencies ‘R.oo’, ‘R.methodsS3’\n",
            "\n",
            "\n",
            "Loading required package: R.oo\n",
            "\n",
            "Loading required package: R.methodsS3\n",
            "\n",
            "R.methodsS3 v1.8.1 (2020-08-26 16:20:06 UTC) successfully loaded. See ?R.methodsS3 for help.\n",
            "\n",
            "R.oo v1.24.0 (2020-08-26 16:11:58 UTC) successfully loaded. See ?R.oo for help.\n",
            "\n",
            "\n",
            "Attaching package: ‘R.oo’\n",
            "\n",
            "\n",
            "The following object is masked from ‘package:R.methodsS3’:\n",
            "\n",
            "    throw\n",
            "\n",
            "\n",
            "The following objects are masked from ‘package:methods’:\n",
            "\n",
            "    getClasses, getMethods\n",
            "\n",
            "\n",
            "The following objects are masked from ‘package:base’:\n",
            "\n",
            "    attach, detach, load, save\n",
            "\n",
            "\n",
            "R.utils v2.10.1 (2020-08-26 22:50:31 UTC) successfully loaded. See ?R.utils for help.\n",
            "\n",
            "\n",
            "Attaching package: ‘R.utils’\n",
            "\n",
            "\n",
            "The following object is masked from ‘package:utils’:\n",
            "\n",
            "    timestamp\n",
            "\n",
            "\n",
            "The following objects are masked from ‘package:base’:\n",
            "\n",
            "    cat, commandArgs, getOption, inherits, isOpen, nullfile, parse,\n",
            "    warnings\n",
            "\n",
            "\n"
          ],
          "name": "stderr"
        }
      ]
    },
    {
      "cell_type": "code",
      "metadata": {
        "colab": {
          "base_uri": "https://localhost:8080/"
        },
        "id": "hGo7jeOGZoxf",
        "outputId": "dd7cd1f7-f7df-44ed-d2d0-77758c31df7c"
      },
      "source": [
        "drive_auth(use_oob = TRUE, cache = TRUE)"
      ],
      "execution_count": 4,
      "outputs": [
        {
          "output_type": "stream",
          "text": [
            "Please point your browser to the following url: \n",
            "\n",
            "https://accounts.google.com/o/oauth2/auth?client_id=603366585132-0l3n5tr582q443rnomebdeeo0156b2bc.apps.googleusercontent.com&scope=https%3A%2F%2Fwww.googleapis.com%2Fauth%2Fdrive%20https%3A%2F%2Fwww.googleapis.com%2Fauth%2Fuserinfo.email&redirect_uri=urn%3Aietf%3Awg%3Aoauth%3A2.0%3Aoob&response_type=code\n",
            "\n"
          ],
          "name": "stderr"
        },
        {
          "output_type": "stream",
          "text": [
            "Enter authorization code: 4/1AY0e-g5mdLbBADDz7XyN-t71zP93NySEzrNXAd8Q8uKL1rabRi7GM5COywQ\n"
          ],
          "name": "stdout"
        }
      ]
    },
    {
      "cell_type": "code",
      "metadata": {
        "id": "Bn9ivjgmaEpy"
      },
      "source": [
        ""
      ],
      "execution_count": null,
      "outputs": []
    }
  ]
}