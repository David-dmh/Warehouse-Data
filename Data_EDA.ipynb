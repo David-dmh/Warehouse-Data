{
  "nbformat": 4,
  "nbformat_minor": 0,
  "metadata": {
    "colab": {
      "name": "Data Cleaning and EDA.ipynb",
      "provenance": [],
      "collapsed_sections": [],
      "authorship_tag": "ABX9TyOEs0dmoOrsCA0rYAK8YO37",
      "include_colab_link": true
    },
    "kernelspec": {
      "name": "ir",
      "display_name": "R"
    }
  },
  "cells": [
    {
      "cell_type": "markdown",
      "metadata": {
        "id": "view-in-github",
        "colab_type": "text"
      },
      "source": [
        "<a href=\"https://colab.research.google.com/github/David-dmh/Warehouse-Data-Analysis/blob/main/Data_Cleaning_and_EDA.ipynb\" target=\"_parent\"><img src=\"https://colab.research.google.com/assets/colab-badge.svg\" alt=\"Open In Colab\"/></a>"
      ]
    },
    {
      "cell_type": "markdown",
      "metadata": {
        "id": "oXn3F1sDl2Il"
      },
      "source": [
        "Set-Up (R):"
      ]
    },
    {
      "cell_type": "code",
      "metadata": {
        "colab": {
          "base_uri": "https://localhost:8080/"
        },
        "id": "cG43_B48T6KC",
        "outputId": "944e50b4-4a06-4957-c883-8ac234f12791"
      },
      "source": [
        "install.packages(\"googledrive\")\r\n",
        "library(\"googledrive\")"
      ],
      "execution_count": 1,
      "outputs": [
        {
          "output_type": "stream",
          "text": [
            "Installing package into ‘/usr/local/lib/R/site-library’\n",
            "(as ‘lib’ is unspecified)\n",
            "\n",
            "also installing the dependency ‘gargle’\n",
            "\n",
            "\n"
          ],
          "name": "stderr"
        }
      ]
    },
    {
      "cell_type": "code",
      "metadata": {
        "colab": {
          "base_uri": "https://localhost:8080/",
          "height": 316
        },
        "id": "iTOqsx6_ZLI4",
        "outputId": "aa22646a-e04b-42bb-d67f-76567e405d7f"
      },
      "source": [
        "drive_auth(\r\n",
        "  email = gargle::gargle_oauth_email(),\r\n",
        "  path = NULL,\r\n",
        "  scopes = \"https://www.googleapis.com/auth/drive\",\r\n",
        "  cache = gargle::gargle_oauth_cache(),\r\n",
        "  use_oob = gargle::gargle_oob_default(),\r\n",
        "  token = NULL\r\n",
        ")"
      ],
      "execution_count": 2,
      "outputs": [
        {
          "output_type": "error",
          "ename": "ERROR",
          "evalue": "ignored",
          "traceback": [
            "Error: Can't get Google credentials.\nAre you running googledrive in a non-interactive session? Consider:\n  * `drive_deauth()` to prevent the attempt to get credentials.\n  * Call `drive_auth()` directly with all necessary specifics.\n  * Read more in: https://gargle.r-lib.org/articles/non-interactive-auth.html\nTraceback:\n",
            "1. drive_auth(email = gargle::gargle_oauth_email(), path = NULL, \n .     scopes = \"https://www.googleapis.com/auth/drive\", cache = gargle::gargle_oauth_cache(), \n .     use_oob = gargle::gargle_oob_default(), token = NULL)",
            "2. stop(\"Can't get Google credentials.\\n\", \"Are you running googledrive in a non-interactive session? Consider:\\n\", \n .     \"  * `drive_deauth()` to prevent the attempt to get credentials.\\n\", \n .     \"  * Call `drive_auth()` directly with all necessary specifics.\\n\", \n .     \"  * Read more in: https://gargle.r-lib.org/articles/non-interactive-auth.html\", \n .     call. = FALSE)"
          ]
        }
      ]
    },
    {
      "cell_type": "code",
      "metadata": {
        "colab": {
          "base_uri": "https://localhost:8080/"
        },
        "id": "EUu1fldCZb2L",
        "outputId": "411690ac-2f45-4d33-a34c-4f56eb6926f2"
      },
      "source": [
        "# Check if is running in Colab and redefine is_interactive()\r\n",
        "if (file.exists(\"/usr/local/lib/python3.6/dist-packages/google/colab/_ipython.py\")) {\r\n",
        "  install.packages(\"R.utils\")\r\n",
        "  library(\"R.utils\")\r\n",
        "  library(\"httr\")\r\n",
        "  my_check <- function() {return(TRUE)}\r\n",
        "  reassignInPackage(\"is_interactive\", pkgName = \"httr\", my_check) \r\n",
        "  options(rlang_interactive=TRUE)\r\n",
        "}"
      ],
      "execution_count": 3,
      "outputs": [
        {
          "output_type": "stream",
          "text": [
            "Installing package into ‘/usr/local/lib/R/site-library’\n",
            "(as ‘lib’ is unspecified)\n",
            "\n",
            "also installing the dependencies ‘R.oo’, ‘R.methodsS3’\n",
            "\n",
            "\n",
            "Loading required package: R.oo\n",
            "\n",
            "Loading required package: R.methodsS3\n",
            "\n",
            "R.methodsS3 v1.8.1 (2020-08-26 16:20:06 UTC) successfully loaded. See ?R.methodsS3 for help.\n",
            "\n",
            "R.oo v1.24.0 (2020-08-26 16:11:58 UTC) successfully loaded. See ?R.oo for help.\n",
            "\n",
            "\n",
            "Attaching package: ‘R.oo’\n",
            "\n",
            "\n",
            "The following object is masked from ‘package:R.methodsS3’:\n",
            "\n",
            "    throw\n",
            "\n",
            "\n",
            "The following objects are masked from ‘package:methods’:\n",
            "\n",
            "    getClasses, getMethods\n",
            "\n",
            "\n",
            "The following objects are masked from ‘package:base’:\n",
            "\n",
            "    attach, detach, load, save\n",
            "\n",
            "\n",
            "R.utils v2.10.1 (2020-08-26 22:50:31 UTC) successfully loaded. See ?R.utils for help.\n",
            "\n",
            "\n",
            "Attaching package: ‘R.utils’\n",
            "\n",
            "\n",
            "The following object is masked from ‘package:utils’:\n",
            "\n",
            "    timestamp\n",
            "\n",
            "\n",
            "The following objects are masked from ‘package:base’:\n",
            "\n",
            "    cat, commandArgs, getOption, inherits, isOpen, nullfile, parse,\n",
            "    warnings\n",
            "\n",
            "\n"
          ],
          "name": "stderr"
        }
      ]
    },
    {
      "cell_type": "code",
      "metadata": {
        "colab": {
          "base_uri": "https://localhost:8080/"
        },
        "id": "hGo7jeOGZoxf",
        "outputId": "b054d4ca-55f9-41d0-f9ff-3a992fd7a622"
      },
      "source": [
        "drive_auth(use_oob = TRUE, cache = TRUE)"
      ],
      "execution_count": 4,
      "outputs": [
        {
          "output_type": "stream",
          "text": [
            "Please point your browser to the following url: \n",
            "\n",
            "https://accounts.google.com/o/oauth2/auth?client_id=603366585132-0l3n5tr582q443rnomebdeeo0156b2bc.apps.googleusercontent.com&scope=https%3A%2F%2Fwww.googleapis.com%2Fauth%2Fdrive%20https%3A%2F%2Fwww.googleapis.com%2Fauth%2Fuserinfo.email&redirect_uri=urn%3Aietf%3Awg%3Aoauth%3A2.0%3Aoob&response_type=code\n",
            "\n"
          ],
          "name": "stderr"
        },
        {
          "output_type": "stream",
          "text": [
            "Enter authorization code: 4/1AY0e-g49tJroOdB2zzpAmq7uB47DdU6XWK52RrGtSitG9CPdd1NDvwKiodw\n"
          ],
          "name": "stdout"
        }
      ]
    },
    {
      "cell_type": "markdown",
      "metadata": {
        "id": "S9mWgkEkl_WZ"
      },
      "source": [
        "Data Cleaning:"
      ]
    },
    {
      "cell_type": "code",
      "metadata": {
        "id": "Bn9ivjgmaEpy",
        "colab": {
          "base_uri": "https://localhost:8080/",
          "height": 377
        },
        "outputId": "a3083507-078a-45c7-f171-520043495b4a"
      },
      "source": [
        "# importing data as .csv\r\n",
        "data <- read.csv(\"ValueAddedActivities.csv\", skip=1)\r\n",
        "colnames(data)[4:20] <- paste(colnames(data)[4:20], \"2010\", sep=\"_\")\r\n",
        "colnames(data)[21:54] <- paste(colnames(data)[21:54], \"2011\", sep=\"_\")\r\n",
        "head(data)"
      ],
      "execution_count": 5,
      "outputs": [
        {
          "output_type": "display_data",
          "data": {
            "text/plain": [
              "  AREA    INDICATORS                          UOM            W36_2010 W37_2010\n",
              "1 Inbound Number of trucks arrived            truck            97      113    \n",
              "2         Number of purchase orders handled   purchase order  943     1135    \n",
              "3            Normal PO                        purchase order  810      953    \n",
              "4            VMI and other PO                 purchase order  133      182    \n",
              "5         Number of purchase receipts handled PO line        1328     1568    \n",
              "6             Receipt (+)                     PO line        1311     1568    \n",
              "  W38_2010 W39_2010 W40_2010 W41_2010 W42_2010 ⋯ W32_2011 W33_2011 W34_2011 X \n",
              "1   88       76      120      100      105     ⋯  125      123      123     NA\n",
              "2 1009      732      741     1059     1056     ⋯ 1437     1491     1788     NA\n",
              "3  821      642      659      938      919     ⋯ 1135     1186     1430     NA\n",
              "4  188       90       82      121      137     ⋯  302      305      358     NA\n",
              "5 1524     1220     1293     1608     1716     ⋯ 2214     1925     2472     NA\n",
              "6 1508     1219     1289     1604     1690     ⋯ 2206     1918     2468     NA\n",
              "  SUM    AVG      X.1 X.2 X.3 X.4\n",
              "1 5,283  103.59                  \n",
              "2 60,116 1,178.75                \n",
              "3 50,221 984.73                  \n",
              "4 9,895  194.02                  \n",
              "5 85,951 1,685.31                \n",
              "6 85,345 1,673.43                "
            ],
            "text/latex": "A data.frame: 6 × 61\n\\begin{tabular}{r|lllllllllllllllllllll}\n  & AREA & INDICATORS & UOM & W36\\_2010 & W37\\_2010 & W38\\_2010 & W39\\_2010 & W40\\_2010 & W41\\_2010 & W42\\_2010 & ⋯ & W32\\_2011 & W33\\_2011 & W34\\_2011 & X & SUM & AVG & X.1 & X.2 & X.3 & X.4\\\\\n  & <chr> & <chr> & <chr> & <int> & <int> & <int> & <int> & <int> & <int> & <int> & ⋯ & <int> & <int> & <int> & <lgl> & <chr> & <chr> & <chr> & <chr> & <chr> & <chr>\\\\\n\\hline\n\t1 & Inbound & Number of trucks arrived            & truck          &   97 &  113 &   88 &   76 &  120 &  100 &  105 & ⋯ &  125 &  123 &  123 & NA & 5,283  & 103.59   &  &  &  & \\\\\n\t2 &         & Number of purchase orders handled   & purchase order &  943 & 1135 & 1009 &  732 &  741 & 1059 & 1056 & ⋯ & 1437 & 1491 & 1788 & NA & 60,116 & 1,178.75 &  &  &  & \\\\\n\t3 &         &    Normal PO                        & purchase order &  810 &  953 &  821 &  642 &  659 &  938 &  919 & ⋯ & 1135 & 1186 & 1430 & NA & 50,221 & 984.73   &  &  &  & \\\\\n\t4 &         &    VMI and other PO                 & purchase order &  133 &  182 &  188 &   90 &   82 &  121 &  137 & ⋯ &  302 &  305 &  358 & NA & 9,895  & 194.02   &  &  &  & \\\\\n\t5 &         & Number of purchase receipts handled & PO line        & 1328 & 1568 & 1524 & 1220 & 1293 & 1608 & 1716 & ⋯ & 2214 & 1925 & 2472 & NA & 85,951 & 1,685.31 &  &  &  & \\\\\n\t6 &         &     Receipt (+)                     & PO line        & 1311 & 1568 & 1508 & 1219 & 1289 & 1604 & 1690 & ⋯ & 2206 & 1918 & 2468 & NA & 85,345 & 1,673.43 &  &  &  & \\\\\n\\end{tabular}\n",
            "text/markdown": "\nA data.frame: 6 × 61\n\n| <!--/--> | AREA &lt;chr&gt; | INDICATORS &lt;chr&gt; | UOM &lt;chr&gt; | W36_2010 &lt;int&gt; | W37_2010 &lt;int&gt; | W38_2010 &lt;int&gt; | W39_2010 &lt;int&gt; | W40_2010 &lt;int&gt; | W41_2010 &lt;int&gt; | W42_2010 &lt;int&gt; | ⋯ ⋯ | W32_2011 &lt;int&gt; | W33_2011 &lt;int&gt; | W34_2011 &lt;int&gt; | X &lt;lgl&gt; | SUM &lt;chr&gt; | AVG &lt;chr&gt; | X.1 &lt;chr&gt; | X.2 &lt;chr&gt; | X.3 &lt;chr&gt; | X.4 &lt;chr&gt; |\n|---|---|---|---|---|---|---|---|---|---|---|---|---|---|---|---|---|---|---|---|---|---|\n| 1 | Inbound | Number of trucks arrived            | truck          |   97 |  113 |   88 |   76 |  120 |  100 |  105 | ⋯ |  125 |  123 |  123 | NA | 5,283  | 103.59   | <!----> | <!----> | <!----> | <!----> |\n| 2 | <!----> | Number of purchase orders handled   | purchase order |  943 | 1135 | 1009 |  732 |  741 | 1059 | 1056 | ⋯ | 1437 | 1491 | 1788 | NA | 60,116 | 1,178.75 | <!----> | <!----> | <!----> | <!----> |\n| 3 | <!----> |    Normal PO                        | purchase order |  810 |  953 |  821 |  642 |  659 |  938 |  919 | ⋯ | 1135 | 1186 | 1430 | NA | 50,221 | 984.73   | <!----> | <!----> | <!----> | <!----> |\n| 4 | <!----> |    VMI and other PO                 | purchase order |  133 |  182 |  188 |   90 |   82 |  121 |  137 | ⋯ |  302 |  305 |  358 | NA | 9,895  | 194.02   | <!----> | <!----> | <!----> | <!----> |\n| 5 | <!----> | Number of purchase receipts handled | PO line        | 1328 | 1568 | 1524 | 1220 | 1293 | 1608 | 1716 | ⋯ | 2214 | 1925 | 2472 | NA | 85,951 | 1,685.31 | <!----> | <!----> | <!----> | <!----> |\n| 6 | <!----> |     Receipt (+)                     | PO line        | 1311 | 1568 | 1508 | 1219 | 1289 | 1604 | 1690 | ⋯ | 2206 | 1918 | 2468 | NA | 85,345 | 1,673.43 | <!----> | <!----> | <!----> | <!----> |\n\n",
            "text/html": [
              "<table>\n",
              "<caption>A data.frame: 6 × 61</caption>\n",
              "<thead>\n",
              "\t<tr><th></th><th scope=col>AREA</th><th scope=col>INDICATORS</th><th scope=col>UOM</th><th scope=col>W36_2010</th><th scope=col>W37_2010</th><th scope=col>W38_2010</th><th scope=col>W39_2010</th><th scope=col>W40_2010</th><th scope=col>W41_2010</th><th scope=col>W42_2010</th><th scope=col>⋯</th><th scope=col>W32_2011</th><th scope=col>W33_2011</th><th scope=col>W34_2011</th><th scope=col>X</th><th scope=col>SUM</th><th scope=col>AVG</th><th scope=col>X.1</th><th scope=col>X.2</th><th scope=col>X.3</th><th scope=col>X.4</th></tr>\n",
              "\t<tr><th></th><th scope=col>&lt;chr&gt;</th><th scope=col>&lt;chr&gt;</th><th scope=col>&lt;chr&gt;</th><th scope=col>&lt;int&gt;</th><th scope=col>&lt;int&gt;</th><th scope=col>&lt;int&gt;</th><th scope=col>&lt;int&gt;</th><th scope=col>&lt;int&gt;</th><th scope=col>&lt;int&gt;</th><th scope=col>&lt;int&gt;</th><th scope=col>⋯</th><th scope=col>&lt;int&gt;</th><th scope=col>&lt;int&gt;</th><th scope=col>&lt;int&gt;</th><th scope=col>&lt;lgl&gt;</th><th scope=col>&lt;chr&gt;</th><th scope=col>&lt;chr&gt;</th><th scope=col>&lt;chr&gt;</th><th scope=col>&lt;chr&gt;</th><th scope=col>&lt;chr&gt;</th><th scope=col>&lt;chr&gt;</th></tr>\n",
              "</thead>\n",
              "<tbody>\n",
              "\t<tr><th scope=row>1</th><td>Inbound</td><td>Number of trucks arrived           </td><td>truck         </td><td>  97</td><td> 113</td><td>  88</td><td>  76</td><td> 120</td><td> 100</td><td> 105</td><td>⋯</td><td> 125</td><td> 123</td><td> 123</td><td>NA</td><td>5,283 </td><td>103.59  </td><td></td><td></td><td></td><td></td></tr>\n",
              "\t<tr><th scope=row>2</th><td>       </td><td>Number of purchase orders handled  </td><td>purchase order</td><td> 943</td><td>1135</td><td>1009</td><td> 732</td><td> 741</td><td>1059</td><td>1056</td><td>⋯</td><td>1437</td><td>1491</td><td>1788</td><td>NA</td><td>60,116</td><td>1,178.75</td><td></td><td></td><td></td><td></td></tr>\n",
              "\t<tr><th scope=row>3</th><td>       </td><td>   Normal PO                       </td><td>purchase order</td><td> 810</td><td> 953</td><td> 821</td><td> 642</td><td> 659</td><td> 938</td><td> 919</td><td>⋯</td><td>1135</td><td>1186</td><td>1430</td><td>NA</td><td>50,221</td><td>984.73  </td><td></td><td></td><td></td><td></td></tr>\n",
              "\t<tr><th scope=row>4</th><td>       </td><td>   VMI and other PO                </td><td>purchase order</td><td> 133</td><td> 182</td><td> 188</td><td>  90</td><td>  82</td><td> 121</td><td> 137</td><td>⋯</td><td> 302</td><td> 305</td><td> 358</td><td>NA</td><td>9,895 </td><td>194.02  </td><td></td><td></td><td></td><td></td></tr>\n",
              "\t<tr><th scope=row>5</th><td>       </td><td>Number of purchase receipts handled</td><td>PO line       </td><td>1328</td><td>1568</td><td>1524</td><td>1220</td><td>1293</td><td>1608</td><td>1716</td><td>⋯</td><td>2214</td><td>1925</td><td>2472</td><td>NA</td><td>85,951</td><td>1,685.31</td><td></td><td></td><td></td><td></td></tr>\n",
              "\t<tr><th scope=row>6</th><td>       </td><td>    Receipt (+)                    </td><td>PO line       </td><td>1311</td><td>1568</td><td>1508</td><td>1219</td><td>1289</td><td>1604</td><td>1690</td><td>⋯</td><td>2206</td><td>1918</td><td>2468</td><td>NA</td><td>85,345</td><td>1,673.43</td><td></td><td></td><td></td><td></td></tr>\n",
              "</tbody>\n",
              "</table>\n"
            ]
          },
          "metadata": {
            "tags": []
          }
        }
      ]
    },
    {
      "cell_type": "code",
      "metadata": {
        "colab": {
          "base_uri": "https://localhost:8080/",
          "height": 377
        },
        "id": "7WSSN7pxEX2-",
        "outputId": "9c9e3ebb-e97c-4fff-8493-3e191c11fc9d"
      },
      "source": [
        "data <- subset(data, select=-c(X, X.1, X.2, X.3, X.4))\r\n",
        "head(data)"
      ],
      "execution_count": 6,
      "outputs": [
        {
          "output_type": "display_data",
          "data": {
            "text/plain": [
              "  AREA    INDICATORS                          UOM            W36_2010 W37_2010\n",
              "1 Inbound Number of trucks arrived            truck            97      113    \n",
              "2         Number of purchase orders handled   purchase order  943     1135    \n",
              "3            Normal PO                        purchase order  810      953    \n",
              "4            VMI and other PO                 purchase order  133      182    \n",
              "5         Number of purchase receipts handled PO line        1328     1568    \n",
              "6             Receipt (+)                     PO line        1311     1568    \n",
              "  W38_2010 W39_2010 W40_2010 W41_2010 W42_2010 ⋯ W27_2011 W28_2011 W29_2011\n",
              "1   88       76      120      100      105     ⋯   88      109      100    \n",
              "2 1009      732      741     1059     1056     ⋯ 1284     1155     1293    \n",
              "3  821      642      659      938      919     ⋯ 1036      928     1006    \n",
              "4  188       90       82      121      137     ⋯  248      227      287    \n",
              "5 1524     1220     1293     1608     1716     ⋯ 1573     1552     1824    \n",
              "6 1508     1219     1289     1604     1690     ⋯ 1572     1544     1810    \n",
              "  W30_2011 W31_2011 W32_2011 W33_2011 W34_2011 SUM    AVG     \n",
              "1  107       94      125      123      123     5,283  103.59  \n",
              "2 1451     1363     1437     1491     1788     60,116 1,178.75\n",
              "3 1142     1095     1135     1186     1430     50,221 984.73  \n",
              "4  309      268      302      305      358     9,895  194.02  \n",
              "5 3121     2605     2214     1925     2472     85,951 1,685.31\n",
              "6 3117     2593     2206     1918     2468     85,345 1,673.43"
            ],
            "text/latex": "A data.frame: 6 × 56\n\\begin{tabular}{r|lllllllllllllllllllll}\n  & AREA & INDICATORS & UOM & W36\\_2010 & W37\\_2010 & W38\\_2010 & W39\\_2010 & W40\\_2010 & W41\\_2010 & W42\\_2010 & ⋯ & W27\\_2011 & W28\\_2011 & W29\\_2011 & W30\\_2011 & W31\\_2011 & W32\\_2011 & W33\\_2011 & W34\\_2011 & SUM & AVG\\\\\n  & <chr> & <chr> & <chr> & <int> & <int> & <int> & <int> & <int> & <int> & <int> & ⋯ & <int> & <int> & <int> & <int> & <int> & <int> & <int> & <int> & <chr> & <chr>\\\\\n\\hline\n\t1 & Inbound & Number of trucks arrived            & truck          &   97 &  113 &   88 &   76 &  120 &  100 &  105 & ⋯ &   88 &  109 &  100 &  107 &   94 &  125 &  123 &  123 & 5,283  & 103.59  \\\\\n\t2 &         & Number of purchase orders handled   & purchase order &  943 & 1135 & 1009 &  732 &  741 & 1059 & 1056 & ⋯ & 1284 & 1155 & 1293 & 1451 & 1363 & 1437 & 1491 & 1788 & 60,116 & 1,178.75\\\\\n\t3 &         &    Normal PO                        & purchase order &  810 &  953 &  821 &  642 &  659 &  938 &  919 & ⋯ & 1036 &  928 & 1006 & 1142 & 1095 & 1135 & 1186 & 1430 & 50,221 & 984.73  \\\\\n\t4 &         &    VMI and other PO                 & purchase order &  133 &  182 &  188 &   90 &   82 &  121 &  137 & ⋯ &  248 &  227 &  287 &  309 &  268 &  302 &  305 &  358 & 9,895  & 194.02  \\\\\n\t5 &         & Number of purchase receipts handled & PO line        & 1328 & 1568 & 1524 & 1220 & 1293 & 1608 & 1716 & ⋯ & 1573 & 1552 & 1824 & 3121 & 2605 & 2214 & 1925 & 2472 & 85,951 & 1,685.31\\\\\n\t6 &         &     Receipt (+)                     & PO line        & 1311 & 1568 & 1508 & 1219 & 1289 & 1604 & 1690 & ⋯ & 1572 & 1544 & 1810 & 3117 & 2593 & 2206 & 1918 & 2468 & 85,345 & 1,673.43\\\\\n\\end{tabular}\n",
            "text/markdown": "\nA data.frame: 6 × 56\n\n| <!--/--> | AREA &lt;chr&gt; | INDICATORS &lt;chr&gt; | UOM &lt;chr&gt; | W36_2010 &lt;int&gt; | W37_2010 &lt;int&gt; | W38_2010 &lt;int&gt; | W39_2010 &lt;int&gt; | W40_2010 &lt;int&gt; | W41_2010 &lt;int&gt; | W42_2010 &lt;int&gt; | ⋯ ⋯ | W27_2011 &lt;int&gt; | W28_2011 &lt;int&gt; | W29_2011 &lt;int&gt; | W30_2011 &lt;int&gt; | W31_2011 &lt;int&gt; | W32_2011 &lt;int&gt; | W33_2011 &lt;int&gt; | W34_2011 &lt;int&gt; | SUM &lt;chr&gt; | AVG &lt;chr&gt; |\n|---|---|---|---|---|---|---|---|---|---|---|---|---|---|---|---|---|---|---|---|---|---|\n| 1 | Inbound | Number of trucks arrived            | truck          |   97 |  113 |   88 |   76 |  120 |  100 |  105 | ⋯ |   88 |  109 |  100 |  107 |   94 |  125 |  123 |  123 | 5,283  | 103.59   |\n| 2 | <!----> | Number of purchase orders handled   | purchase order |  943 | 1135 | 1009 |  732 |  741 | 1059 | 1056 | ⋯ | 1284 | 1155 | 1293 | 1451 | 1363 | 1437 | 1491 | 1788 | 60,116 | 1,178.75 |\n| 3 | <!----> |    Normal PO                        | purchase order |  810 |  953 |  821 |  642 |  659 |  938 |  919 | ⋯ | 1036 |  928 | 1006 | 1142 | 1095 | 1135 | 1186 | 1430 | 50,221 | 984.73   |\n| 4 | <!----> |    VMI and other PO                 | purchase order |  133 |  182 |  188 |   90 |   82 |  121 |  137 | ⋯ |  248 |  227 |  287 |  309 |  268 |  302 |  305 |  358 | 9,895  | 194.02   |\n| 5 | <!----> | Number of purchase receipts handled | PO line        | 1328 | 1568 | 1524 | 1220 | 1293 | 1608 | 1716 | ⋯ | 1573 | 1552 | 1824 | 3121 | 2605 | 2214 | 1925 | 2472 | 85,951 | 1,685.31 |\n| 6 | <!----> |     Receipt (+)                     | PO line        | 1311 | 1568 | 1508 | 1219 | 1289 | 1604 | 1690 | ⋯ | 1572 | 1544 | 1810 | 3117 | 2593 | 2206 | 1918 | 2468 | 85,345 | 1,673.43 |\n\n",
            "text/html": [
              "<table>\n",
              "<caption>A data.frame: 6 × 56</caption>\n",
              "<thead>\n",
              "\t<tr><th></th><th scope=col>AREA</th><th scope=col>INDICATORS</th><th scope=col>UOM</th><th scope=col>W36_2010</th><th scope=col>W37_2010</th><th scope=col>W38_2010</th><th scope=col>W39_2010</th><th scope=col>W40_2010</th><th scope=col>W41_2010</th><th scope=col>W42_2010</th><th scope=col>⋯</th><th scope=col>W27_2011</th><th scope=col>W28_2011</th><th scope=col>W29_2011</th><th scope=col>W30_2011</th><th scope=col>W31_2011</th><th scope=col>W32_2011</th><th scope=col>W33_2011</th><th scope=col>W34_2011</th><th scope=col>SUM</th><th scope=col>AVG</th></tr>\n",
              "\t<tr><th></th><th scope=col>&lt;chr&gt;</th><th scope=col>&lt;chr&gt;</th><th scope=col>&lt;chr&gt;</th><th scope=col>&lt;int&gt;</th><th scope=col>&lt;int&gt;</th><th scope=col>&lt;int&gt;</th><th scope=col>&lt;int&gt;</th><th scope=col>&lt;int&gt;</th><th scope=col>&lt;int&gt;</th><th scope=col>&lt;int&gt;</th><th scope=col>⋯</th><th scope=col>&lt;int&gt;</th><th scope=col>&lt;int&gt;</th><th scope=col>&lt;int&gt;</th><th scope=col>&lt;int&gt;</th><th scope=col>&lt;int&gt;</th><th scope=col>&lt;int&gt;</th><th scope=col>&lt;int&gt;</th><th scope=col>&lt;int&gt;</th><th scope=col>&lt;chr&gt;</th><th scope=col>&lt;chr&gt;</th></tr>\n",
              "</thead>\n",
              "<tbody>\n",
              "\t<tr><th scope=row>1</th><td>Inbound</td><td>Number of trucks arrived           </td><td>truck         </td><td>  97</td><td> 113</td><td>  88</td><td>  76</td><td> 120</td><td> 100</td><td> 105</td><td>⋯</td><td>  88</td><td> 109</td><td> 100</td><td> 107</td><td>  94</td><td> 125</td><td> 123</td><td> 123</td><td>5,283 </td><td>103.59  </td></tr>\n",
              "\t<tr><th scope=row>2</th><td>       </td><td>Number of purchase orders handled  </td><td>purchase order</td><td> 943</td><td>1135</td><td>1009</td><td> 732</td><td> 741</td><td>1059</td><td>1056</td><td>⋯</td><td>1284</td><td>1155</td><td>1293</td><td>1451</td><td>1363</td><td>1437</td><td>1491</td><td>1788</td><td>60,116</td><td>1,178.75</td></tr>\n",
              "\t<tr><th scope=row>3</th><td>       </td><td>   Normal PO                       </td><td>purchase order</td><td> 810</td><td> 953</td><td> 821</td><td> 642</td><td> 659</td><td> 938</td><td> 919</td><td>⋯</td><td>1036</td><td> 928</td><td>1006</td><td>1142</td><td>1095</td><td>1135</td><td>1186</td><td>1430</td><td>50,221</td><td>984.73  </td></tr>\n",
              "\t<tr><th scope=row>4</th><td>       </td><td>   VMI and other PO                </td><td>purchase order</td><td> 133</td><td> 182</td><td> 188</td><td>  90</td><td>  82</td><td> 121</td><td> 137</td><td>⋯</td><td> 248</td><td> 227</td><td> 287</td><td> 309</td><td> 268</td><td> 302</td><td> 305</td><td> 358</td><td>9,895 </td><td>194.02  </td></tr>\n",
              "\t<tr><th scope=row>5</th><td>       </td><td>Number of purchase receipts handled</td><td>PO line       </td><td>1328</td><td>1568</td><td>1524</td><td>1220</td><td>1293</td><td>1608</td><td>1716</td><td>⋯</td><td>1573</td><td>1552</td><td>1824</td><td>3121</td><td>2605</td><td>2214</td><td>1925</td><td>2472</td><td>85,951</td><td>1,685.31</td></tr>\n",
              "\t<tr><th scope=row>6</th><td>       </td><td>    Receipt (+)                    </td><td>PO line       </td><td>1311</td><td>1568</td><td>1508</td><td>1219</td><td>1289</td><td>1604</td><td>1690</td><td>⋯</td><td>1572</td><td>1544</td><td>1810</td><td>3117</td><td>2593</td><td>2206</td><td>1918</td><td>2468</td><td>85,345</td><td>1,673.43</td></tr>\n",
              "</tbody>\n",
              "</table>\n"
            ]
          },
          "metadata": {
            "tags": []
          }
        }
      ]
    },
    {
      "cell_type": "code",
      "metadata": {
        "colab": {
          "base_uri": "https://localhost:8080/",
          "height": 34
        },
        "id": "TsQ5qnDuGMNq",
        "outputId": "85bb5367-33b7-4ae7-b410-41f7ae780134"
      },
      "source": [
        "# need to create dataframes for each AREA, will make plotting easier\r\n",
        "# for: inbound, WHS_bldg, whs_to_production, whs_other, outbound, production_mat_flow\r\n",
        "which(data$AREA != \"\")\r\n",
        "\r\n",
        "inbound <- data[1:16, ]\r\n",
        "WHS_bldg <- data[17:32, ]\r\n",
        "whs_to_production <- data[33:43, ]\r\n",
        "whs_other <- data[44:49, ]\r\n",
        "outbound <- data[50:57, ]\r\n",
        "production_mat_flow <- data[58:62, ]"
      ],
      "execution_count": 7,
      "outputs": [
        {
          "output_type": "display_data",
          "data": {
            "text/plain": [
              "[1]  1 17 33 44 50 58"
            ],
            "text/latex": "\\begin{enumerate*}\n\\item 1\n\\item 17\n\\item 33\n\\item 44\n\\item 50\n\\item 58\n\\end{enumerate*}\n",
            "text/markdown": "1. 1\n2. 17\n3. 33\n4. 44\n5. 50\n6. 58\n\n\n",
            "text/html": [
              "<style>\n",
              ".list-inline {list-style: none; margin:0; padding: 0}\n",
              ".list-inline>li {display: inline-block}\n",
              ".list-inline>li:not(:last-child)::after {content: \"\\00b7\"; padding: 0 .5ex}\n",
              "</style>\n",
              "<ol class=list-inline><li>1</li><li>17</li><li>33</li><li>44</li><li>50</li><li>58</li></ol>\n"
            ]
          },
          "metadata": {
            "tags": []
          }
        }
      ]
    },
    {
      "cell_type": "code",
      "metadata": {
        "colab": {
          "base_uri": "https://localhost:8080/",
          "height": 34
        },
        "id": "Fb_4iBY2-EVF",
        "outputId": "67e36906-5351-4bf1-b4ea-6bf30c34e1d9"
      },
      "source": [
        "No_of_trucks_arrived_2010"
      ],
      "execution_count": 80,
      "outputs": [
        {
          "output_type": "display_data",
          "data": {
            "text/plain": [
              " [1]  97 113  88  76 120 100 105 107  79  95 116 119 102 111 113  88  23"
            ],
            "text/latex": "\\begin{enumerate*}\n\\item 97\n\\item 113\n\\item 88\n\\item 76\n\\item 120\n\\item 100\n\\item 105\n\\item 107\n\\item 79\n\\item 95\n\\item 116\n\\item 119\n\\item 102\n\\item 111\n\\item 113\n\\item 88\n\\item 23\n\\end{enumerate*}\n",
            "text/markdown": "1. 97\n2. 113\n3. 88\n4. 76\n5. 120\n6. 100\n7. 105\n8. 107\n9. 79\n10. 95\n11. 116\n12. 119\n13. 102\n14. 111\n15. 113\n16. 88\n17. 23\n\n\n",
            "text/html": [
              "<style>\n",
              ".list-inline {list-style: none; margin:0; padding: 0}\n",
              ".list-inline>li {display: inline-block}\n",
              ".list-inline>li:not(:last-child)::after {content: \"\\00b7\"; padding: 0 .5ex}\n",
              "</style>\n",
              "<ol class=list-inline><li>97</li><li>113</li><li>88</li><li>76</li><li>120</li><li>100</li><li>105</li><li>107</li><li>79</li><li>95</li><li>116</li><li>119</li><li>102</li><li>111</li><li>113</li><li>88</li><li>23</li></ol>\n"
            ]
          },
          "metadata": {
            "tags": []
          }
        }
      ]
    },
    {
      "cell_type": "code",
      "metadata": {
        "colab": {
          "base_uri": "https://localhost:8080/",
          "height": 34
        },
        "id": "dDpiJTb2_wMb",
        "outputId": "a76095f3-69e1-44d8-de7f-687c8fad2991"
      },
      "source": [
        "colnames(inbound)[1]"
      ],
      "execution_count": 85,
      "outputs": [
        {
          "output_type": "display_data",
          "data": {
            "text/plain": [
              "[1] \"AREA\""
            ],
            "text/latex": "'AREA'",
            "text/markdown": "'AREA'",
            "text/html": [
              "'AREA'"
            ]
          },
          "metadata": {
            "tags": []
          }
        }
      ]
    },
    {
      "cell_type": "code",
      "metadata": {
        "colab": {
          "base_uri": "https://localhost:8080/",
          "height": 51
        },
        "id": "f901NyU--6Fc",
        "outputId": "1034e082-0bec-4041-a2b2-71039dd3b4d3"
      },
      "source": [
        "abc <- sapply(seq(from=4, to=length(No_of_trucks_arrived_2010), by=1),function(x)colnames(inbound)[x])\r\n",
        "abc"
      ],
      "execution_count": 88,
      "outputs": [
        {
          "output_type": "display_data",
          "data": {
            "text/plain": [
              " [1] \"W36_2010\" \"W37_2010\" \"W38_2010\" \"W39_2010\" \"W40_2010\" \"W41_2010\"\n",
              " [7] \"W42_2010\" \"W43_2010\" \"W44_2010\" \"W45_2010\" \"W46_2010\" \"W47_2010\"\n",
              "[13] \"W48_2010\" \"W49_2010\""
            ],
            "text/latex": "\\begin{enumerate*}\n\\item 'W36\\_2010'\n\\item 'W37\\_2010'\n\\item 'W38\\_2010'\n\\item 'W39\\_2010'\n\\item 'W40\\_2010'\n\\item 'W41\\_2010'\n\\item 'W42\\_2010'\n\\item 'W43\\_2010'\n\\item 'W44\\_2010'\n\\item 'W45\\_2010'\n\\item 'W46\\_2010'\n\\item 'W47\\_2010'\n\\item 'W48\\_2010'\n\\item 'W49\\_2010'\n\\end{enumerate*}\n",
            "text/markdown": "1. 'W36_2010'\n2. 'W37_2010'\n3. 'W38_2010'\n4. 'W39_2010'\n5. 'W40_2010'\n6. 'W41_2010'\n7. 'W42_2010'\n8. 'W43_2010'\n9. 'W44_2010'\n10. 'W45_2010'\n11. 'W46_2010'\n12. 'W47_2010'\n13. 'W48_2010'\n14. 'W49_2010'\n\n\n",
            "text/html": [
              "<style>\n",
              ".list-inline {list-style: none; margin:0; padding: 0}\n",
              ".list-inline>li {display: inline-block}\n",
              ".list-inline>li:not(:last-child)::after {content: \"\\00b7\"; padding: 0 .5ex}\n",
              "</style>\n",
              "<ol class=list-inline><li>'W36_2010'</li><li>'W37_2010'</li><li>'W38_2010'</li><li>'W39_2010'</li><li>'W40_2010'</li><li>'W41_2010'</li><li>'W42_2010'</li><li>'W43_2010'</li><li>'W44_2010'</li><li>'W45_2010'</li><li>'W46_2010'</li><li>'W47_2010'</li><li>'W48_2010'</li><li>'W49_2010'</li></ol>\n"
            ]
          },
          "metadata": {
            "tags": []
          }
        }
      ]
    },
    {
      "cell_type": "code",
      "metadata": {
        "colab": {
          "base_uri": "https://localhost:8080/",
          "height": 34
        },
        "id": "8a6nb-YdCG3W",
        "outputId": "867b6fb7-3eb9-46b8-d6c6-b11660548017"
      },
      "source": [
        "# index for subsetting 2010 names\r\n",
        "test1 <- seq(from=which(names(inbound) == \"W36_2010\"), to=which(names(inbound) == \"W52_2010\"), by=1)\r\n",
        "length(test1)"
      ],
      "execution_count": 101,
      "outputs": [
        {
          "output_type": "display_data",
          "data": {
            "text/plain": [
              "[1] 17"
            ],
            "text/latex": "17",
            "text/markdown": "17",
            "text/html": [
              "17"
            ]
          },
          "metadata": {
            "tags": []
          }
        }
      ]
    },
    {
      "cell_type": "code",
      "metadata": {
        "colab": {
          "base_uri": "https://localhost:8080/",
          "height": 34
        },
        "id": "wJwYjRq6Ckrg",
        "outputId": "d0fc7222-2ba3-4e69-bba0-e04fbc55f97f"
      },
      "source": [
        "test2 <- sapply(seq(from=which(names(inbound) == \"W36_2010\"), to=which(names(inbound) == \"W52_2010\"), by=1), function(x)colnames(inbound)[x])\r\n",
        "length(test2)"
      ],
      "execution_count": 102,
      "outputs": [
        {
          "output_type": "display_data",
          "data": {
            "text/plain": [
              "[1] 17"
            ],
            "text/latex": "17",
            "text/markdown": "17",
            "text/html": [
              "17"
            ]
          },
          "metadata": {
            "tags": []
          }
        }
      ]
    },
    {
      "cell_type": "code",
      "metadata": {
        "colab": {
          "base_uri": "https://localhost:8080/",
          "height": 51
        },
        "id": "m2meVxy5CR6V",
        "outputId": "2004a690-f9c9-41f1-e6ce-674e4cfb7eb7"
      },
      "source": [
        "# index for subsetting 2011 names\r\n",
        "seq(from=which(names(inbound) == \"W01_2011\"), to=which(names(inbound) == \"W34_2011\"), by=1)"
      ],
      "execution_count": 96,
      "outputs": [
        {
          "output_type": "display_data",
          "data": {
            "text/plain": [
              " [1] 21 22 23 24 25 26 27 28 29 30 31 32 33 34 35 36 37 38 39 40 41 42 43 44 45\n",
              "[26] 46 47 48 49 50 51 52 53 54"
            ],
            "text/latex": "\\begin{enumerate*}\n\\item 21\n\\item 22\n\\item 23\n\\item 24\n\\item 25\n\\item 26\n\\item 27\n\\item 28\n\\item 29\n\\item 30\n\\item 31\n\\item 32\n\\item 33\n\\item 34\n\\item 35\n\\item 36\n\\item 37\n\\item 38\n\\item 39\n\\item 40\n\\item 41\n\\item 42\n\\item 43\n\\item 44\n\\item 45\n\\item 46\n\\item 47\n\\item 48\n\\item 49\n\\item 50\n\\item 51\n\\item 52\n\\item 53\n\\item 54\n\\end{enumerate*}\n",
            "text/markdown": "1. 21\n2. 22\n3. 23\n4. 24\n5. 25\n6. 26\n7. 27\n8. 28\n9. 29\n10. 30\n11. 31\n12. 32\n13. 33\n14. 34\n15. 35\n16. 36\n17. 37\n18. 38\n19. 39\n20. 40\n21. 41\n22. 42\n23. 43\n24. 44\n25. 45\n26. 46\n27. 47\n28. 48\n29. 49\n30. 50\n31. 51\n32. 52\n33. 53\n34. 54\n\n\n",
            "text/html": [
              "<style>\n",
              ".list-inline {list-style: none; margin:0; padding: 0}\n",
              ".list-inline>li {display: inline-block}\n",
              ".list-inline>li:not(:last-child)::after {content: \"\\00b7\"; padding: 0 .5ex}\n",
              "</style>\n",
              "<ol class=list-inline><li>21</li><li>22</li><li>23</li><li>24</li><li>25</li><li>26</li><li>27</li><li>28</li><li>29</li><li>30</li><li>31</li><li>32</li><li>33</li><li>34</li><li>35</li><li>36</li><li>37</li><li>38</li><li>39</li><li>40</li><li>41</li><li>42</li><li>43</li><li>44</li><li>45</li><li>46</li><li>47</li><li>48</li><li>49</li><li>50</li><li>51</li><li>52</li><li>53</li><li>54</li></ol>\n"
            ]
          },
          "metadata": {
            "tags": []
          }
        }
      ]
    },
    {
      "cell_type": "code",
      "metadata": {
        "colab": {
          "base_uri": "https://localhost:8080/",
          "height": 85
        },
        "id": "YEcCozVhCdqU",
        "outputId": "1f25100d-6763-4de2-c9e3-19f99a4f268c"
      },
      "source": [
        "sapply(seq(from=which(names(inbound) == \"W01_2011\"), to=which(names(inbound) == \"W34_2011\"), by=1), function(x)colnames(inbound)[x])"
      ],
      "execution_count": 97,
      "outputs": [
        {
          "output_type": "display_data",
          "data": {
            "text/plain": [
              " [1] \"W01_2011\" \"W02_2011\" \"W03_2011\" \"W04_2011\" \"W05_2011\" \"W06_2011\"\n",
              " [7] \"W07_2011\" \"W08_2011\" \"W09_2011\" \"W10_2011\" \"W11_2011\" \"W12_2011\"\n",
              "[13] \"W13_2011\" \"W14_2011\" \"W15_2011\" \"W16_2011\" \"W17_2011\" \"W18_2011\"\n",
              "[19] \"W19_2011\" \"W20_2011\" \"W21_2011\" \"W22_2011\" \"W23_2011\" \"W24_2011\"\n",
              "[25] \"W25_2011\" \"W26_2011\" \"W27_2011\" \"W28_2011\" \"W29_2011\" \"W30_2011\"\n",
              "[31] \"W31_2011\" \"W32_2011\" \"W33_2011\" \"W34_2011\""
            ],
            "text/latex": "\\begin{enumerate*}\n\\item 'W01\\_2011'\n\\item 'W02\\_2011'\n\\item 'W03\\_2011'\n\\item 'W04\\_2011'\n\\item 'W05\\_2011'\n\\item 'W06\\_2011'\n\\item 'W07\\_2011'\n\\item 'W08\\_2011'\n\\item 'W09\\_2011'\n\\item 'W10\\_2011'\n\\item 'W11\\_2011'\n\\item 'W12\\_2011'\n\\item 'W13\\_2011'\n\\item 'W14\\_2011'\n\\item 'W15\\_2011'\n\\item 'W16\\_2011'\n\\item 'W17\\_2011'\n\\item 'W18\\_2011'\n\\item 'W19\\_2011'\n\\item 'W20\\_2011'\n\\item 'W21\\_2011'\n\\item 'W22\\_2011'\n\\item 'W23\\_2011'\n\\item 'W24\\_2011'\n\\item 'W25\\_2011'\n\\item 'W26\\_2011'\n\\item 'W27\\_2011'\n\\item 'W28\\_2011'\n\\item 'W29\\_2011'\n\\item 'W30\\_2011'\n\\item 'W31\\_2011'\n\\item 'W32\\_2011'\n\\item 'W33\\_2011'\n\\item 'W34\\_2011'\n\\end{enumerate*}\n",
            "text/markdown": "1. 'W01_2011'\n2. 'W02_2011'\n3. 'W03_2011'\n4. 'W04_2011'\n5. 'W05_2011'\n6. 'W06_2011'\n7. 'W07_2011'\n8. 'W08_2011'\n9. 'W09_2011'\n10. 'W10_2011'\n11. 'W11_2011'\n12. 'W12_2011'\n13. 'W13_2011'\n14. 'W14_2011'\n15. 'W15_2011'\n16. 'W16_2011'\n17. 'W17_2011'\n18. 'W18_2011'\n19. 'W19_2011'\n20. 'W20_2011'\n21. 'W21_2011'\n22. 'W22_2011'\n23. 'W23_2011'\n24. 'W24_2011'\n25. 'W25_2011'\n26. 'W26_2011'\n27. 'W27_2011'\n28. 'W28_2011'\n29. 'W29_2011'\n30. 'W30_2011'\n31. 'W31_2011'\n32. 'W32_2011'\n33. 'W33_2011'\n34. 'W34_2011'\n\n\n",
            "text/html": [
              "<style>\n",
              ".list-inline {list-style: none; margin:0; padding: 0}\n",
              ".list-inline>li {display: inline-block}\n",
              ".list-inline>li:not(:last-child)::after {content: \"\\00b7\"; padding: 0 .5ex}\n",
              "</style>\n",
              "<ol class=list-inline><li>'W01_2011'</li><li>'W02_2011'</li><li>'W03_2011'</li><li>'W04_2011'</li><li>'W05_2011'</li><li>'W06_2011'</li><li>'W07_2011'</li><li>'W08_2011'</li><li>'W09_2011'</li><li>'W10_2011'</li><li>'W11_2011'</li><li>'W12_2011'</li><li>'W13_2011'</li><li>'W14_2011'</li><li>'W15_2011'</li><li>'W16_2011'</li><li>'W17_2011'</li><li>'W18_2011'</li><li>'W19_2011'</li><li>'W20_2011'</li><li>'W21_2011'</li><li>'W22_2011'</li><li>'W23_2011'</li><li>'W24_2011'</li><li>'W25_2011'</li><li>'W26_2011'</li><li>'W27_2011'</li><li>'W28_2011'</li><li>'W29_2011'</li><li>'W30_2011'</li><li>'W31_2011'</li><li>'W32_2011'</li><li>'W33_2011'</li><li>'W34_2011'</li></ol>\n"
            ]
          },
          "metadata": {
            "tags": []
          }
        }
      ]
    },
    {
      "cell_type": "code",
      "metadata": {
        "colab": {
          "base_uri": "https://localhost:8080/",
          "height": 437
        },
        "id": "Jd-FjUVoNcCk",
        "outputId": "3a4a34f3-34d1-4e38-b5d3-e0fe576df94f"
      },
      "source": [
        "No_of_trucks_arrived_2010 <- as.numeric(as.vector(inbound[1, 5:which(names(inbound) == \"W01_2011\")-1]))\r\n",
        "No_of_trucks_arrived_2011 <- as.numeric(as.vector(inbound[1, which(names(inbound) == \"W01_2011\"):which(names(inbound) == \"W34_2011\")]))\r\n",
        "\r\n",
        "# lines(No_of_trucks_arrived_2011, type=\"o\", col=\"red\")\r\n",
        "par(mar=c(6.1, 5.1, 5.1, 3.1), mgp=c(5.2, 1, 0))\r\n",
        "plot(No_of_trucks_arrived_2010, type=\"o\", col=\"blue\", main=\"Weekly truck arrivals in 2010\", xlab=\"Week of year\", \r\n",
        "ylab=\"Number of trucks arrived\", xaxt=\"n\")\r\n",
        "axis(1, at=1:length(test1), test2, las=2)"
      ],
      "execution_count": 117,
      "outputs": [
        {
          "output_type": "display_data",
          "data": {
            "image/png": "[encoded data removed]",
            "text/plain": [
              "Plot with title “Weekly truck arrivals in 2010”"
            ]
          },
          "metadata": {
            "tags": [],
            "image/png": {
              "width": 420,
              "height": 420
            }
          }
        }
      ]
    }
  ]
}
