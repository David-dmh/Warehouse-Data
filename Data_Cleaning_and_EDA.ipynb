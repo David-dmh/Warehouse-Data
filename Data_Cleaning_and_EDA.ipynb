{
  "nbformat": 4,
  "nbformat_minor": 0,
  "metadata": {
    "colab": {
      "name": "Data Cleaning and EDA.ipynb",
      "provenance": [],
      "collapsed_sections": [],
      "authorship_tag": "ABX9TyNu6UsW8q0gt/8JD6tFYmVD",
      "include_colab_link": true
    },
    "kernelspec": {
      "name": "ir",
      "display_name": "R"
    }
  },
  "cells": [
    {
      "cell_type": "markdown",
      "metadata": {
        "id": "view-in-github",
        "colab_type": "text"
      },
      "source": [
        "<a href=\"https://colab.research.google.com/github/David-dmh/Warehouse-Data-Analysis/blob/main/Data_Cleaning_and_EDA.ipynb\" target=\"_parent\"><img src=\"https://colab.research.google.com/assets/colab-badge.svg\" alt=\"Open In Colab\"/></a>"
      ]
    },
    {
      "cell_type": "code",
      "metadata": {
        "colab": {
          "base_uri": "https://localhost:8080/"
        },
        "id": "cG43_B48T6KC",
        "outputId": "7349ea4f-7cd3-4ac5-cdbe-8698da72f0cb"
      },
      "source": [
        "install.packages(\"googledrive\")\r\n",
        "library(\"googledrive\")"
      ],
      "execution_count": 1,
      "outputs": [
        {
          "output_type": "stream",
          "text": [
            "Installing package into ‘/usr/local/lib/R/site-library’\n",
            "(as ‘lib’ is unspecified)\n",
            "\n",
            "also installing the dependency ‘gargle’\n",
            "\n",
            "\n"
          ],
          "name": "stderr"
        }
      ]
    },
    {
      "cell_type": "code",
      "metadata": {
        "colab": {
          "base_uri": "https://localhost:8080/",
          "height": 316
        },
        "id": "iTOqsx6_ZLI4",
        "outputId": "27d6a519-6493-4547-fc82-bd0961694f94"
      },
      "source": [
        "drive_auth(\r\n",
        "  email = gargle::gargle_oauth_email(),\r\n",
        "  path = NULL,\r\n",
        "  scopes = \"https://www.googleapis.com/auth/drive\",\r\n",
        "  cache = gargle::gargle_oauth_cache(),\r\n",
        "  use_oob = gargle::gargle_oob_default(),\r\n",
        "  token = NULL\r\n",
        ")"
      ],
      "execution_count": 2,
      "outputs": [
        {
          "output_type": "error",
          "ename": "ERROR",
          "evalue": "ignored",
          "traceback": [
            "Error: Can't get Google credentials.\nAre you running googledrive in a non-interactive session? Consider:\n  * `drive_deauth()` to prevent the attempt to get credentials.\n  * Call `drive_auth()` directly with all necessary specifics.\n  * Read more in: https://gargle.r-lib.org/articles/non-interactive-auth.html\nTraceback:\n",
            "1. drive_auth(email = gargle::gargle_oauth_email(), path = NULL, \n .     scopes = \"https://www.googleapis.com/auth/drive\", cache = gargle::gargle_oauth_cache(), \n .     use_oob = gargle::gargle_oob_default(), token = NULL)",
            "2. stop(\"Can't get Google credentials.\\n\", \"Are you running googledrive in a non-interactive session? Consider:\\n\", \n .     \"  * `drive_deauth()` to prevent the attempt to get credentials.\\n\", \n .     \"  * Call `drive_auth()` directly with all necessary specifics.\\n\", \n .     \"  * Read more in: https://gargle.r-lib.org/articles/non-interactive-auth.html\", \n .     call. = FALSE)"
          ]
        }
      ]
    },
    {
      "cell_type": "code",
      "metadata": {
        "colab": {
          "base_uri": "https://localhost:8080/"
        },
        "id": "EUu1fldCZb2L",
        "outputId": "0c654000-6286-45cd-8407-fa6b1ff36692"
      },
      "source": [
        "# Check if is running in Colab and redefine is_interactive()\r\n",
        "if (file.exists(\"/usr/local/lib/python3.6/dist-packages/google/colab/_ipython.py\")) {\r\n",
        "  install.packages(\"R.utils\")\r\n",
        "  library(\"R.utils\")\r\n",
        "  library(\"httr\")\r\n",
        "  my_check <- function() {return(TRUE)}\r\n",
        "  reassignInPackage(\"is_interactive\", pkgName = \"httr\", my_check) \r\n",
        "  options(rlang_interactive=TRUE)\r\n",
        "}"
      ],
      "execution_count": 3,
      "outputs": [
        {
          "output_type": "stream",
          "text": [
            "Installing package into ‘/usr/local/lib/R/site-library’\n",
            "(as ‘lib’ is unspecified)\n",
            "\n",
            "also installing the dependencies ‘R.oo’, ‘R.methodsS3’\n",
            "\n",
            "\n",
            "Loading required package: R.oo\n",
            "\n",
            "Loading required package: R.methodsS3\n",
            "\n",
            "R.methodsS3 v1.8.1 (2020-08-26 16:20:06 UTC) successfully loaded. See ?R.methodsS3 for help.\n",
            "\n",
            "R.oo v1.24.0 (2020-08-26 16:11:58 UTC) successfully loaded. See ?R.oo for help.\n",
            "\n",
            "\n",
            "Attaching package: ‘R.oo’\n",
            "\n",
            "\n",
            "The following object is masked from ‘package:R.methodsS3’:\n",
            "\n",
            "    throw\n",
            "\n",
            "\n",
            "The following objects are masked from ‘package:methods’:\n",
            "\n",
            "    getClasses, getMethods\n",
            "\n",
            "\n",
            "The following objects are masked from ‘package:base’:\n",
            "\n",
            "    attach, detach, load, save\n",
            "\n",
            "\n",
            "R.utils v2.10.1 (2020-08-26 22:50:31 UTC) successfully loaded. See ?R.utils for help.\n",
            "\n",
            "\n",
            "Attaching package: ‘R.utils’\n",
            "\n",
            "\n",
            "The following object is masked from ‘package:utils’:\n",
            "\n",
            "    timestamp\n",
            "\n",
            "\n",
            "The following objects are masked from ‘package:base’:\n",
            "\n",
            "    cat, commandArgs, getOption, inherits, isOpen, nullfile, parse,\n",
            "    warnings\n",
            "\n",
            "\n"
          ],
          "name": "stderr"
        }
      ]
    },
    {
      "cell_type": "code",
      "metadata": {
        "colab": {
          "base_uri": "https://localhost:8080/"
        },
        "id": "hGo7jeOGZoxf",
        "outputId": "69f67508-531c-46c0-e08c-22ff020277cc"
      },
      "source": [
        "drive_auth(use_oob = TRUE, cache = TRUE)"
      ],
      "execution_count": 4,
      "outputs": [
        {
          "output_type": "stream",
          "text": [
            "Please point your browser to the following url: \n",
            "\n",
            "https://accounts.google.com/o/oauth2/auth?client_id=603366585132-0l3n5tr582q443rnomebdeeo0156b2bc.apps.googleusercontent.com&scope=https%3A%2F%2Fwww.googleapis.com%2Fauth%2Fdrive%20https%3A%2F%2Fwww.googleapis.com%2Fauth%2Fuserinfo.email&redirect_uri=urn%3Aietf%3Awg%3Aoauth%3A2.0%3Aoob&response_type=code\n",
            "\n"
          ],
          "name": "stderr"
        },
        {
          "output_type": "stream",
          "text": [
            "Enter authorization code: 4/1AY0e-g7QG1t-VWku9-fR_mAGMmSLQlYztpZmyqEMbMcnl7I-GfuvhVhubpk\n"
          ],
          "name": "stdout"
        }
      ]
    },
    {
      "cell_type": "code",
      "metadata": {
        "id": "Bn9ivjgmaEpy",
        "colab": {
          "base_uri": "https://localhost:8080/",
          "height": 377
        },
        "outputId": "cb424270-530f-4843-96f3-631f2bdf2010"
      },
      "source": [
        "# importing data as .csv\r\n",
        "data <- read.csv(\"ValueAddedActivities.csv\", skip=1)\r\n",
        "colnames(data)[4:20] <- paste(colnames(data)[4:20], \"2010\", sep=\"_\")\r\n",
        "colnames(data)[21:54] <- paste(colnames(data)[21:54], \"2011\", sep=\"_\")\r\n",
        "head(data)"
      ],
      "execution_count": 83,
      "outputs": [
        {
          "output_type": "display_data",
          "data": {
            "text/plain": [
              "  AREA    INDICATORS                          UOM            W36_2010 W37_2010\n",
              "1 Inbound Number of trucks arrived            truck            97      113    \n",
              "2         Number of purchase orders handled   purchase order  943     1135    \n",
              "3            Normal PO                        purchase order  810      953    \n",
              "4            VMI and other PO                 purchase order  133      182    \n",
              "5         Number of purchase receipts handled PO line        1328     1568    \n",
              "6             Receipt (+)                     PO line        1311     1568    \n",
              "  W38_2010 W39_2010 W40_2010 W41_2010 W42_2010 ⋯ W32_2011 W33_2011 W34_2011 X \n",
              "1   88       76      120      100      105     ⋯  125      123      123     NA\n",
              "2 1009      732      741     1059     1056     ⋯ 1437     1491     1788     NA\n",
              "3  821      642      659      938      919     ⋯ 1135     1186     1430     NA\n",
              "4  188       90       82      121      137     ⋯  302      305      358     NA\n",
              "5 1524     1220     1293     1608     1716     ⋯ 2214     1925     2472     NA\n",
              "6 1508     1219     1289     1604     1690     ⋯ 2206     1918     2468     NA\n",
              "  SUM    AVG      X.1 X.2 X.3 X.4\n",
              "1 5,283  103.59                  \n",
              "2 60,116 1,178.75                \n",
              "3 50,221 984.73                  \n",
              "4 9,895  194.02                  \n",
              "5 85,951 1,685.31                \n",
              "6 85,345 1,673.43                "
            ],
            "text/latex": "A data.frame: 6 × 61\n\\begin{tabular}{r|lllllllllllllllllllll}\n  & AREA & INDICATORS & UOM & W36\\_2010 & W37\\_2010 & W38\\_2010 & W39\\_2010 & W40\\_2010 & W41\\_2010 & W42\\_2010 & ⋯ & W32\\_2011 & W33\\_2011 & W34\\_2011 & X & SUM & AVG & X.1 & X.2 & X.3 & X.4\\\\\n  & <chr> & <chr> & <chr> & <int> & <int> & <int> & <int> & <int> & <int> & <int> & ⋯ & <int> & <int> & <int> & <lgl> & <chr> & <chr> & <chr> & <chr> & <chr> & <chr>\\\\\n\\hline\n\t1 & Inbound & Number of trucks arrived            & truck          &   97 &  113 &   88 &   76 &  120 &  100 &  105 & ⋯ &  125 &  123 &  123 & NA & 5,283  & 103.59   &  &  &  & \\\\\n\t2 &         & Number of purchase orders handled   & purchase order &  943 & 1135 & 1009 &  732 &  741 & 1059 & 1056 & ⋯ & 1437 & 1491 & 1788 & NA & 60,116 & 1,178.75 &  &  &  & \\\\\n\t3 &         &    Normal PO                        & purchase order &  810 &  953 &  821 &  642 &  659 &  938 &  919 & ⋯ & 1135 & 1186 & 1430 & NA & 50,221 & 984.73   &  &  &  & \\\\\n\t4 &         &    VMI and other PO                 & purchase order &  133 &  182 &  188 &   90 &   82 &  121 &  137 & ⋯ &  302 &  305 &  358 & NA & 9,895  & 194.02   &  &  &  & \\\\\n\t5 &         & Number of purchase receipts handled & PO line        & 1328 & 1568 & 1524 & 1220 & 1293 & 1608 & 1716 & ⋯ & 2214 & 1925 & 2472 & NA & 85,951 & 1,685.31 &  &  &  & \\\\\n\t6 &         &     Receipt (+)                     & PO line        & 1311 & 1568 & 1508 & 1219 & 1289 & 1604 & 1690 & ⋯ & 2206 & 1918 & 2468 & NA & 85,345 & 1,673.43 &  &  &  & \\\\\n\\end{tabular}\n",
            "text/markdown": "\nA data.frame: 6 × 61\n\n| <!--/--> | AREA &lt;chr&gt; | INDICATORS &lt;chr&gt; | UOM &lt;chr&gt; | W36_2010 &lt;int&gt; | W37_2010 &lt;int&gt; | W38_2010 &lt;int&gt; | W39_2010 &lt;int&gt; | W40_2010 &lt;int&gt; | W41_2010 &lt;int&gt; | W42_2010 &lt;int&gt; | ⋯ ⋯ | W32_2011 &lt;int&gt; | W33_2011 &lt;int&gt; | W34_2011 &lt;int&gt; | X &lt;lgl&gt; | SUM &lt;chr&gt; | AVG &lt;chr&gt; | X.1 &lt;chr&gt; | X.2 &lt;chr&gt; | X.3 &lt;chr&gt; | X.4 &lt;chr&gt; |\n|---|---|---|---|---|---|---|---|---|---|---|---|---|---|---|---|---|---|---|---|---|---|\n| 1 | Inbound | Number of trucks arrived            | truck          |   97 |  113 |   88 |   76 |  120 |  100 |  105 | ⋯ |  125 |  123 |  123 | NA | 5,283  | 103.59   | <!----> | <!----> | <!----> | <!----> |\n| 2 | <!----> | Number of purchase orders handled   | purchase order |  943 | 1135 | 1009 |  732 |  741 | 1059 | 1056 | ⋯ | 1437 | 1491 | 1788 | NA | 60,116 | 1,178.75 | <!----> | <!----> | <!----> | <!----> |\n| 3 | <!----> |    Normal PO                        | purchase order |  810 |  953 |  821 |  642 |  659 |  938 |  919 | ⋯ | 1135 | 1186 | 1430 | NA | 50,221 | 984.73   | <!----> | <!----> | <!----> | <!----> |\n| 4 | <!----> |    VMI and other PO                 | purchase order |  133 |  182 |  188 |   90 |   82 |  121 |  137 | ⋯ |  302 |  305 |  358 | NA | 9,895  | 194.02   | <!----> | <!----> | <!----> | <!----> |\n| 5 | <!----> | Number of purchase receipts handled | PO line        | 1328 | 1568 | 1524 | 1220 | 1293 | 1608 | 1716 | ⋯ | 2214 | 1925 | 2472 | NA | 85,951 | 1,685.31 | <!----> | <!----> | <!----> | <!----> |\n| 6 | <!----> |     Receipt (+)                     | PO line        | 1311 | 1568 | 1508 | 1219 | 1289 | 1604 | 1690 | ⋯ | 2206 | 1918 | 2468 | NA | 85,345 | 1,673.43 | <!----> | <!----> | <!----> | <!----> |\n\n",
            "text/html": [
              "<table>\n",
              "<caption>A data.frame: 6 × 61</caption>\n",
              "<thead>\n",
              "\t<tr><th></th><th scope=col>AREA</th><th scope=col>INDICATORS</th><th scope=col>UOM</th><th scope=col>W36_2010</th><th scope=col>W37_2010</th><th scope=col>W38_2010</th><th scope=col>W39_2010</th><th scope=col>W40_2010</th><th scope=col>W41_2010</th><th scope=col>W42_2010</th><th scope=col>⋯</th><th scope=col>W32_2011</th><th scope=col>W33_2011</th><th scope=col>W34_2011</th><th scope=col>X</th><th scope=col>SUM</th><th scope=col>AVG</th><th scope=col>X.1</th><th scope=col>X.2</th><th scope=col>X.3</th><th scope=col>X.4</th></tr>\n",
              "\t<tr><th></th><th scope=col>&lt;chr&gt;</th><th scope=col>&lt;chr&gt;</th><th scope=col>&lt;chr&gt;</th><th scope=col>&lt;int&gt;</th><th scope=col>&lt;int&gt;</th><th scope=col>&lt;int&gt;</th><th scope=col>&lt;int&gt;</th><th scope=col>&lt;int&gt;</th><th scope=col>&lt;int&gt;</th><th scope=col>&lt;int&gt;</th><th scope=col>⋯</th><th scope=col>&lt;int&gt;</th><th scope=col>&lt;int&gt;</th><th scope=col>&lt;int&gt;</th><th scope=col>&lt;lgl&gt;</th><th scope=col>&lt;chr&gt;</th><th scope=col>&lt;chr&gt;</th><th scope=col>&lt;chr&gt;</th><th scope=col>&lt;chr&gt;</th><th scope=col>&lt;chr&gt;</th><th scope=col>&lt;chr&gt;</th></tr>\n",
              "</thead>\n",
              "<tbody>\n",
              "\t<tr><th scope=row>1</th><td>Inbound</td><td>Number of trucks arrived           </td><td>truck         </td><td>  97</td><td> 113</td><td>  88</td><td>  76</td><td> 120</td><td> 100</td><td> 105</td><td>⋯</td><td> 125</td><td> 123</td><td> 123</td><td>NA</td><td>5,283 </td><td>103.59  </td><td></td><td></td><td></td><td></td></tr>\n",
              "\t<tr><th scope=row>2</th><td>       </td><td>Number of purchase orders handled  </td><td>purchase order</td><td> 943</td><td>1135</td><td>1009</td><td> 732</td><td> 741</td><td>1059</td><td>1056</td><td>⋯</td><td>1437</td><td>1491</td><td>1788</td><td>NA</td><td>60,116</td><td>1,178.75</td><td></td><td></td><td></td><td></td></tr>\n",
              "\t<tr><th scope=row>3</th><td>       </td><td>   Normal PO                       </td><td>purchase order</td><td> 810</td><td> 953</td><td> 821</td><td> 642</td><td> 659</td><td> 938</td><td> 919</td><td>⋯</td><td>1135</td><td>1186</td><td>1430</td><td>NA</td><td>50,221</td><td>984.73  </td><td></td><td></td><td></td><td></td></tr>\n",
              "\t<tr><th scope=row>4</th><td>       </td><td>   VMI and other PO                </td><td>purchase order</td><td> 133</td><td> 182</td><td> 188</td><td>  90</td><td>  82</td><td> 121</td><td> 137</td><td>⋯</td><td> 302</td><td> 305</td><td> 358</td><td>NA</td><td>9,895 </td><td>194.02  </td><td></td><td></td><td></td><td></td></tr>\n",
              "\t<tr><th scope=row>5</th><td>       </td><td>Number of purchase receipts handled</td><td>PO line       </td><td>1328</td><td>1568</td><td>1524</td><td>1220</td><td>1293</td><td>1608</td><td>1716</td><td>⋯</td><td>2214</td><td>1925</td><td>2472</td><td>NA</td><td>85,951</td><td>1,685.31</td><td></td><td></td><td></td><td></td></tr>\n",
              "\t<tr><th scope=row>6</th><td>       </td><td>    Receipt (+)                    </td><td>PO line       </td><td>1311</td><td>1568</td><td>1508</td><td>1219</td><td>1289</td><td>1604</td><td>1690</td><td>⋯</td><td>2206</td><td>1918</td><td>2468</td><td>NA</td><td>85,345</td><td>1,673.43</td><td></td><td></td><td></td><td></td></tr>\n",
              "</tbody>\n",
              "</table>\n"
            ]
          },
          "metadata": {
            "tags": []
          }
        }
      ]
    },
    {
      "cell_type": "code",
      "metadata": {
        "colab": {
          "base_uri": "https://localhost:8080/",
          "height": 377
        },
        "id": "7WSSN7pxEX2-",
        "outputId": "50e1f2a9-e021-4ef6-e8b5-fea35fd7abdf"
      },
      "source": [
        "data <- subset(data, select=-c(X, X.1, X.2, X.3, X.4))\r\n",
        "head(data)"
      ],
      "execution_count": 84,
      "outputs": [
        {
          "output_type": "display_data",
          "data": {
            "text/plain": [
              "  AREA    INDICATORS                          UOM            W36_2010 W37_2010\n",
              "1 Inbound Number of trucks arrived            truck            97      113    \n",
              "2         Number of purchase orders handled   purchase order  943     1135    \n",
              "3            Normal PO                        purchase order  810      953    \n",
              "4            VMI and other PO                 purchase order  133      182    \n",
              "5         Number of purchase receipts handled PO line        1328     1568    \n",
              "6             Receipt (+)                     PO line        1311     1568    \n",
              "  W38_2010 W39_2010 W40_2010 W41_2010 W42_2010 ⋯ W27_2011 W28_2011 W29_2011\n",
              "1   88       76      120      100      105     ⋯   88      109      100    \n",
              "2 1009      732      741     1059     1056     ⋯ 1284     1155     1293    \n",
              "3  821      642      659      938      919     ⋯ 1036      928     1006    \n",
              "4  188       90       82      121      137     ⋯  248      227      287    \n",
              "5 1524     1220     1293     1608     1716     ⋯ 1573     1552     1824    \n",
              "6 1508     1219     1289     1604     1690     ⋯ 1572     1544     1810    \n",
              "  W30_2011 W31_2011 W32_2011 W33_2011 W34_2011 SUM    AVG     \n",
              "1  107       94      125      123      123     5,283  103.59  \n",
              "2 1451     1363     1437     1491     1788     60,116 1,178.75\n",
              "3 1142     1095     1135     1186     1430     50,221 984.73  \n",
              "4  309      268      302      305      358     9,895  194.02  \n",
              "5 3121     2605     2214     1925     2472     85,951 1,685.31\n",
              "6 3117     2593     2206     1918     2468     85,345 1,673.43"
            ],
            "text/latex": "A data.frame: 6 × 56\n\\begin{tabular}{r|lllllllllllllllllllll}\n  & AREA & INDICATORS & UOM & W36\\_2010 & W37\\_2010 & W38\\_2010 & W39\\_2010 & W40\\_2010 & W41\\_2010 & W42\\_2010 & ⋯ & W27\\_2011 & W28\\_2011 & W29\\_2011 & W30\\_2011 & W31\\_2011 & W32\\_2011 & W33\\_2011 & W34\\_2011 & SUM & AVG\\\\\n  & <chr> & <chr> & <chr> & <int> & <int> & <int> & <int> & <int> & <int> & <int> & ⋯ & <int> & <int> & <int> & <int> & <int> & <int> & <int> & <int> & <chr> & <chr>\\\\\n\\hline\n\t1 & Inbound & Number of trucks arrived            & truck          &   97 &  113 &   88 &   76 &  120 &  100 &  105 & ⋯ &   88 &  109 &  100 &  107 &   94 &  125 &  123 &  123 & 5,283  & 103.59  \\\\\n\t2 &         & Number of purchase orders handled   & purchase order &  943 & 1135 & 1009 &  732 &  741 & 1059 & 1056 & ⋯ & 1284 & 1155 & 1293 & 1451 & 1363 & 1437 & 1491 & 1788 & 60,116 & 1,178.75\\\\\n\t3 &         &    Normal PO                        & purchase order &  810 &  953 &  821 &  642 &  659 &  938 &  919 & ⋯ & 1036 &  928 & 1006 & 1142 & 1095 & 1135 & 1186 & 1430 & 50,221 & 984.73  \\\\\n\t4 &         &    VMI and other PO                 & purchase order &  133 &  182 &  188 &   90 &   82 &  121 &  137 & ⋯ &  248 &  227 &  287 &  309 &  268 &  302 &  305 &  358 & 9,895  & 194.02  \\\\\n\t5 &         & Number of purchase receipts handled & PO line        & 1328 & 1568 & 1524 & 1220 & 1293 & 1608 & 1716 & ⋯ & 1573 & 1552 & 1824 & 3121 & 2605 & 2214 & 1925 & 2472 & 85,951 & 1,685.31\\\\\n\t6 &         &     Receipt (+)                     & PO line        & 1311 & 1568 & 1508 & 1219 & 1289 & 1604 & 1690 & ⋯ & 1572 & 1544 & 1810 & 3117 & 2593 & 2206 & 1918 & 2468 & 85,345 & 1,673.43\\\\\n\\end{tabular}\n",
            "text/markdown": "\nA data.frame: 6 × 56\n\n| <!--/--> | AREA &lt;chr&gt; | INDICATORS &lt;chr&gt; | UOM &lt;chr&gt; | W36_2010 &lt;int&gt; | W37_2010 &lt;int&gt; | W38_2010 &lt;int&gt; | W39_2010 &lt;int&gt; | W40_2010 &lt;int&gt; | W41_2010 &lt;int&gt; | W42_2010 &lt;int&gt; | ⋯ ⋯ | W27_2011 &lt;int&gt; | W28_2011 &lt;int&gt; | W29_2011 &lt;int&gt; | W30_2011 &lt;int&gt; | W31_2011 &lt;int&gt; | W32_2011 &lt;int&gt; | W33_2011 &lt;int&gt; | W34_2011 &lt;int&gt; | SUM &lt;chr&gt; | AVG &lt;chr&gt; |\n|---|---|---|---|---|---|---|---|---|---|---|---|---|---|---|---|---|---|---|---|---|---|\n| 1 | Inbound | Number of trucks arrived            | truck          |   97 |  113 |   88 |   76 |  120 |  100 |  105 | ⋯ |   88 |  109 |  100 |  107 |   94 |  125 |  123 |  123 | 5,283  | 103.59   |\n| 2 | <!----> | Number of purchase orders handled   | purchase order |  943 | 1135 | 1009 |  732 |  741 | 1059 | 1056 | ⋯ | 1284 | 1155 | 1293 | 1451 | 1363 | 1437 | 1491 | 1788 | 60,116 | 1,178.75 |\n| 3 | <!----> |    Normal PO                        | purchase order |  810 |  953 |  821 |  642 |  659 |  938 |  919 | ⋯ | 1036 |  928 | 1006 | 1142 | 1095 | 1135 | 1186 | 1430 | 50,221 | 984.73   |\n| 4 | <!----> |    VMI and other PO                 | purchase order |  133 |  182 |  188 |   90 |   82 |  121 |  137 | ⋯ |  248 |  227 |  287 |  309 |  268 |  302 |  305 |  358 | 9,895  | 194.02   |\n| 5 | <!----> | Number of purchase receipts handled | PO line        | 1328 | 1568 | 1524 | 1220 | 1293 | 1608 | 1716 | ⋯ | 1573 | 1552 | 1824 | 3121 | 2605 | 2214 | 1925 | 2472 | 85,951 | 1,685.31 |\n| 6 | <!----> |     Receipt (+)                     | PO line        | 1311 | 1568 | 1508 | 1219 | 1289 | 1604 | 1690 | ⋯ | 1572 | 1544 | 1810 | 3117 | 2593 | 2206 | 1918 | 2468 | 85,345 | 1,673.43 |\n\n",
            "text/html": [
              "<table>\n",
              "<caption>A data.frame: 6 × 56</caption>\n",
              "<thead>\n",
              "\t<tr><th></th><th scope=col>AREA</th><th scope=col>INDICATORS</th><th scope=col>UOM</th><th scope=col>W36_2010</th><th scope=col>W37_2010</th><th scope=col>W38_2010</th><th scope=col>W39_2010</th><th scope=col>W40_2010</th><th scope=col>W41_2010</th><th scope=col>W42_2010</th><th scope=col>⋯</th><th scope=col>W27_2011</th><th scope=col>W28_2011</th><th scope=col>W29_2011</th><th scope=col>W30_2011</th><th scope=col>W31_2011</th><th scope=col>W32_2011</th><th scope=col>W33_2011</th><th scope=col>W34_2011</th><th scope=col>SUM</th><th scope=col>AVG</th></tr>\n",
              "\t<tr><th></th><th scope=col>&lt;chr&gt;</th><th scope=col>&lt;chr&gt;</th><th scope=col>&lt;chr&gt;</th><th scope=col>&lt;int&gt;</th><th scope=col>&lt;int&gt;</th><th scope=col>&lt;int&gt;</th><th scope=col>&lt;int&gt;</th><th scope=col>&lt;int&gt;</th><th scope=col>&lt;int&gt;</th><th scope=col>&lt;int&gt;</th><th scope=col>⋯</th><th scope=col>&lt;int&gt;</th><th scope=col>&lt;int&gt;</th><th scope=col>&lt;int&gt;</th><th scope=col>&lt;int&gt;</th><th scope=col>&lt;int&gt;</th><th scope=col>&lt;int&gt;</th><th scope=col>&lt;int&gt;</th><th scope=col>&lt;int&gt;</th><th scope=col>&lt;chr&gt;</th><th scope=col>&lt;chr&gt;</th></tr>\n",
              "</thead>\n",
              "<tbody>\n",
              "\t<tr><th scope=row>1</th><td>Inbound</td><td>Number of trucks arrived           </td><td>truck         </td><td>  97</td><td> 113</td><td>  88</td><td>  76</td><td> 120</td><td> 100</td><td> 105</td><td>⋯</td><td>  88</td><td> 109</td><td> 100</td><td> 107</td><td>  94</td><td> 125</td><td> 123</td><td> 123</td><td>5,283 </td><td>103.59  </td></tr>\n",
              "\t<tr><th scope=row>2</th><td>       </td><td>Number of purchase orders handled  </td><td>purchase order</td><td> 943</td><td>1135</td><td>1009</td><td> 732</td><td> 741</td><td>1059</td><td>1056</td><td>⋯</td><td>1284</td><td>1155</td><td>1293</td><td>1451</td><td>1363</td><td>1437</td><td>1491</td><td>1788</td><td>60,116</td><td>1,178.75</td></tr>\n",
              "\t<tr><th scope=row>3</th><td>       </td><td>   Normal PO                       </td><td>purchase order</td><td> 810</td><td> 953</td><td> 821</td><td> 642</td><td> 659</td><td> 938</td><td> 919</td><td>⋯</td><td>1036</td><td> 928</td><td>1006</td><td>1142</td><td>1095</td><td>1135</td><td>1186</td><td>1430</td><td>50,221</td><td>984.73  </td></tr>\n",
              "\t<tr><th scope=row>4</th><td>       </td><td>   VMI and other PO                </td><td>purchase order</td><td> 133</td><td> 182</td><td> 188</td><td>  90</td><td>  82</td><td> 121</td><td> 137</td><td>⋯</td><td> 248</td><td> 227</td><td> 287</td><td> 309</td><td> 268</td><td> 302</td><td> 305</td><td> 358</td><td>9,895 </td><td>194.02  </td></tr>\n",
              "\t<tr><th scope=row>5</th><td>       </td><td>Number of purchase receipts handled</td><td>PO line       </td><td>1328</td><td>1568</td><td>1524</td><td>1220</td><td>1293</td><td>1608</td><td>1716</td><td>⋯</td><td>1573</td><td>1552</td><td>1824</td><td>3121</td><td>2605</td><td>2214</td><td>1925</td><td>2472</td><td>85,951</td><td>1,685.31</td></tr>\n",
              "\t<tr><th scope=row>6</th><td>       </td><td>    Receipt (+)                    </td><td>PO line       </td><td>1311</td><td>1568</td><td>1508</td><td>1219</td><td>1289</td><td>1604</td><td>1690</td><td>⋯</td><td>1572</td><td>1544</td><td>1810</td><td>3117</td><td>2593</td><td>2206</td><td>1918</td><td>2468</td><td>85,345</td><td>1,673.43</td></tr>\n",
              "</tbody>\n",
              "</table>\n"
            ]
          },
          "metadata": {
            "tags": []
          }
        }
      ]
    },
    {
      "cell_type": "code",
      "metadata": {
        "colab": {
          "base_uri": "https://localhost:8080/",
          "height": 34
        },
        "id": "TsQ5qnDuGMNq",
        "outputId": "26904aee-aa3c-4ed3-e4bd-bcc1f3473699"
      },
      "source": [
        "# need to create dataframes for each AREA, will make plotting easier\r\n",
        "# for: inbound, WHS_bldg, whs_to_production, whs_other, outbound, production_mat_flow\r\n",
        "which(data$AREA != \"\")\r\n",
        "\r\n",
        "inbound <- data[1:16, ]\r\n",
        "WHS_bldg <- data[17:32, ]\r\n",
        "whs_to_production <- data[33:43, ]\r\n",
        "whs_other <- data[44:49, ]\r\n",
        "outbound <- data[50:57, ]\r\n",
        "production_mat_flow <- data[58:62, ]"
      ],
      "execution_count": 85,
      "outputs": [
        {
          "output_type": "display_data",
          "data": {
            "text/plain": [
              "[1]  1 17 33 44 50 58"
            ],
            "text/latex": "\\begin{enumerate*}\n\\item 1\n\\item 17\n\\item 33\n\\item 44\n\\item 50\n\\item 58\n\\end{enumerate*}\n",
            "text/markdown": "1. 1\n2. 17\n3. 33\n4. 44\n5. 50\n6. 58\n\n\n",
            "text/html": [
              "<style>\n",
              ".list-inline {list-style: none; margin:0; padding: 0}\n",
              ".list-inline>li {display: inline-block}\n",
              ".list-inline>li:not(:last-child)::after {content: \"\\00b7\"; padding: 0 .5ex}\n",
              "</style>\n",
              "<ol class=list-inline><li>1</li><li>17</li><li>33</li><li>44</li><li>50</li><li>58</li></ol>\n"
            ]
          },
          "metadata": {
            "tags": []
          }
        }
      ]
    },
    {
      "cell_type": "code",
      "metadata": {
        "colab": {
          "base_uri": "https://localhost:8080/",
          "height": 1000
        },
        "id": "Jd-FjUVoNcCk",
        "outputId": "a78b7b81-724c-4468-c3ef-f08130f53cda"
      },
      "source": [
        "WHS_bldg"
      ],
      "execution_count": 86,
      "outputs": [
        {
          "output_type": "display_data",
          "data": {
            "text/plain": [
              "   AREA                                                        \n",
              "17 WHS bldg / Internal replenishment and warehousing activities\n",
              "18                                                             \n",
              "19                                                             \n",
              "20                                                             \n",
              "21                                                             \n",
              "22                                                             \n",
              "23                                                             \n",
              "24                                                             \n",
              "25                                                             \n",
              "26                                                             \n",
              "27                                                             \n",
              "28                                                             \n",
              "29                                                             \n",
              "30                                                             \n",
              "31                                                             \n",
              "32                                                             \n",
              "   INDICATORS                                                                         \n",
              "17 Putaways and location changes (includes HighValue Parts)                           \n",
              "18    via subinventory transfer from MFGRECEIVE to MFGHUB                             \n",
              "19    via subinventory transfer between warehouse locations (inside MFGHUB)           \n",
              "20    via move order transfer                                                         \n",
              "21 Packages handled to/from DMC (Damaged Materials Collection)                        \n",
              "22    to/from high racks                                                              \n",
              "23    to/from other locations                                                         \n",
              "24    back to MFGHUB                                                                  \n",
              "25 Packages handled from production (returned parts)                                  \n",
              "26 Packages handled for export purposes (send to sisterplants)                        \n",
              "27 Number of replenishment orders from warehouse to Supermarket at production building\n",
              "28    via subinventory transfer                                                       \n",
              "29    via kanban card scan                                                            \n",
              "30 Number of replenishment orders to Pickface                                         \n",
              "31    via subinventory transfer                                                       \n",
              "32    via kanban card scan                                                            \n",
              "   UOM        W36_2010 W37_2010 W38_2010 W39_2010 W40_2010 W41_2010 W42_2010 ⋯\n",
              "17 package    2484     2427     2570     2070     4779     3095     3377     ⋯\n",
              "18 package    1593     1617     1625      969     1684     2022     2093     ⋯\n",
              "19 package     556      544      584      748     2865      713      863     ⋯\n",
              "20 package     335      266      361      353      230      360      421     ⋯\n",
              "21 package     144      213      204       74      212      358      256     ⋯\n",
              "22 package       0        0        0        0        0        0        0     ⋯\n",
              "23 package     134      211      199       57      191      334      237     ⋯\n",
              "24 package      10        2        5       17       21       24       19     ⋯\n",
              "25 package     100       74       48       24       43      189       89     ⋯\n",
              "26 package     128       36       28        0       32       67      180     ⋯\n",
              "27 repl order  421      436      258      127       81      202      220     ⋯\n",
              "28 repl order  209      217      127       48       26       84       87     ⋯\n",
              "29 repl order  212      219      131       79       55      118      133     ⋯\n",
              "30 repl order  977     1189     1156      368      372     1064     1077     ⋯\n",
              "31 repl order  595      754      758      232      265      699      624     ⋯\n",
              "32 repl order  382      435      398      136      107      365      453     ⋯\n",
              "   W27_2011 W28_2011 W29_2011 W30_2011 W31_2011 W32_2011 W33_2011 W34_2011\n",
              "17 2428     2394     2508     2882     2216     3541     2652     3749    \n",
              "18  784      875      873     1043      893     1104     1161     1379    \n",
              "19  225       85      278      447      302      402      252      386    \n",
              "20 1419     1434     1357     1392     1021     2035     1239     1984    \n",
              "21  350      234      309      236      319      266      256      163    \n",
              "22   49       37       83       53       56       37       67       23    \n",
              "23  283      187      198      157      257      209      176      130    \n",
              "24   18       10       28       26        6       20       13       10    \n",
              "25   56       74       99       58      108       68       61       87    \n",
              "26   50       69       81       48       49       52       42       61    \n",
              "27   92       74      139       93       91       76       98      142    \n",
              "28    0        1        8        0        1        2        0        6    \n",
              "29   92       73      131       93       90       74       98      136    \n",
              "30  768      813     1060      901      944      996     1120     1319    \n",
              "31   70       70       63       64       70       87       80       98    \n",
              "32  698      743      997      837      874      909     1040     1221    \n",
              "   SUM     AVG     \n",
              "17 145,721 2,857.27\n",
              "18 60,812  1,192.39\n",
              "19 27,228  533.88  \n",
              "20 57,681  1,131.00\n",
              "21 15,596  305.80  \n",
              "22 2,336   45.80   \n",
              "23 12,320  241.57  \n",
              "24 940     18.43   \n",
              "25 4,512   88.47   \n",
              "26 4,142   81.22   \n",
              "27 7,455   146.18  \n",
              "28 1,913   37.51   \n",
              "29 5,542   108.67  \n",
              "30 51,752  1,014.75\n",
              "31 14,724  288.71  \n",
              "32 37,028  726.04  "
            ],
            "text/latex": "A data.frame: 16 × 56\n\\begin{tabular}{r|lllllllllllllllllllll}\n  & AREA & INDICATORS & UOM & W36\\_2010 & W37\\_2010 & W38\\_2010 & W39\\_2010 & W40\\_2010 & W41\\_2010 & W42\\_2010 & ⋯ & W27\\_2011 & W28\\_2011 & W29\\_2011 & W30\\_2011 & W31\\_2011 & W32\\_2011 & W33\\_2011 & W34\\_2011 & SUM & AVG\\\\\n  & <chr> & <chr> & <chr> & <int> & <int> & <int> & <int> & <int> & <int> & <int> & ⋯ & <int> & <int> & <int> & <int> & <int> & <int> & <int> & <int> & <chr> & <chr>\\\\\n\\hline\n\t17 & WHS bldg / Internal replenishment and warehousing activities & Putaways and location changes (includes HighValue Parts)                            & package    & 2484 & 2427 & 2570 & 2070 & 4779 & 3095 & 3377 & ⋯ & 2428 & 2394 & 2508 & 2882 & 2216 & 3541 & 2652 & 3749 & 145,721 & 2,857.27\\\\\n\t18 &                                                              &    via subinventory transfer from MFGRECEIVE to MFGHUB                              & package    & 1593 & 1617 & 1625 &  969 & 1684 & 2022 & 2093 & ⋯ &  784 &  875 &  873 & 1043 &  893 & 1104 & 1161 & 1379 & 60,812  & 1,192.39\\\\\n\t19 &                                                              &    via subinventory transfer between warehouse locations (inside MFGHUB)            & package    &  556 &  544 &  584 &  748 & 2865 &  713 &  863 & ⋯ &  225 &   85 &  278 &  447 &  302 &  402 &  252 &  386 & 27,228  & 533.88  \\\\\n\t20 &                                                              &    via move order transfer                                                          & package    &  335 &  266 &  361 &  353 &  230 &  360 &  421 & ⋯ & 1419 & 1434 & 1357 & 1392 & 1021 & 2035 & 1239 & 1984 & 57,681  & 1,131.00\\\\\n\t21 &                                                              & Packages handled to/from DMC (Damaged Materials Collection)                         & package    &  144 &  213 &  204 &   74 &  212 &  358 &  256 & ⋯ &  350 &  234 &  309 &  236 &  319 &  266 &  256 &  163 & 15,596  & 305.80  \\\\\n\t22 &                                                              &    to/from high racks                                                               & package    &    0 &    0 &    0 &    0 &    0 &    0 &    0 & ⋯ &   49 &   37 &   83 &   53 &   56 &   37 &   67 &   23 & 2,336   & 45.80   \\\\\n\t23 &                                                              &    to/from other locations                                                          & package    &  134 &  211 &  199 &   57 &  191 &  334 &  237 & ⋯ &  283 &  187 &  198 &  157 &  257 &  209 &  176 &  130 & 12,320  & 241.57  \\\\\n\t24 &                                                              &    back to MFGHUB                                                                   & package    &   10 &    2 &    5 &   17 &   21 &   24 &   19 & ⋯ &   18 &   10 &   28 &   26 &    6 &   20 &   13 &   10 & 940     & 18.43   \\\\\n\t25 &                                                              & Packages handled from production (returned parts)                                   & package    &  100 &   74 &   48 &   24 &   43 &  189 &   89 & ⋯ &   56 &   74 &   99 &   58 &  108 &   68 &   61 &   87 & 4,512   & 88.47   \\\\\n\t26 &                                                              & Packages handled for export purposes (send to sisterplants)                         & package    &  128 &   36 &   28 &    0 &   32 &   67 &  180 & ⋯ &   50 &   69 &   81 &   48 &   49 &   52 &   42 &   61 & 4,142   & 81.22   \\\\\n\t27 &                                                              & Number of replenishment orders from warehouse to Supermarket at production building & repl order &  421 &  436 &  258 &  127 &   81 &  202 &  220 & ⋯ &   92 &   74 &  139 &   93 &   91 &   76 &   98 &  142 & 7,455   & 146.18  \\\\\n\t28 &                                                              &    via subinventory transfer                                                        & repl order &  209 &  217 &  127 &   48 &   26 &   84 &   87 & ⋯ &    0 &    1 &    8 &    0 &    1 &    2 &    0 &    6 & 1,913   & 37.51   \\\\\n\t29 &                                                              &    via kanban card scan                                                             & repl order &  212 &  219 &  131 &   79 &   55 &  118 &  133 & ⋯ &   92 &   73 &  131 &   93 &   90 &   74 &   98 &  136 & 5,542   & 108.67  \\\\\n\t30 &                                                              & Number of replenishment orders to Pickface                                          & repl order &  977 & 1189 & 1156 &  368 &  372 & 1064 & 1077 & ⋯ &  768 &  813 & 1060 &  901 &  944 &  996 & 1120 & 1319 & 51,752  & 1,014.75\\\\\n\t31 &                                                              &    via subinventory transfer                                                        & repl order &  595 &  754 &  758 &  232 &  265 &  699 &  624 & ⋯ &   70 &   70 &   63 &   64 &   70 &   87 &   80 &   98 & 14,724  & 288.71  \\\\\n\t32 &                                                              &    via kanban card scan                                                             & repl order &  382 &  435 &  398 &  136 &  107 &  365 &  453 & ⋯ &  698 &  743 &  997 &  837 &  874 &  909 & 1040 & 1221 & 37,028  & 726.04  \\\\\n\\end{tabular}\n",
            "text/markdown": "\nA data.frame: 16 × 56\n\n| <!--/--> | AREA &lt;chr&gt; | INDICATORS &lt;chr&gt; | UOM &lt;chr&gt; | W36_2010 &lt;int&gt; | W37_2010 &lt;int&gt; | W38_2010 &lt;int&gt; | W39_2010 &lt;int&gt; | W40_2010 &lt;int&gt; | W41_2010 &lt;int&gt; | W42_2010 &lt;int&gt; | ⋯ ⋯ | W27_2011 &lt;int&gt; | W28_2011 &lt;int&gt; | W29_2011 &lt;int&gt; | W30_2011 &lt;int&gt; | W31_2011 &lt;int&gt; | W32_2011 &lt;int&gt; | W33_2011 &lt;int&gt; | W34_2011 &lt;int&gt; | SUM &lt;chr&gt; | AVG &lt;chr&gt; |\n|---|---|---|---|---|---|---|---|---|---|---|---|---|---|---|---|---|---|---|---|---|---|\n| 17 | WHS bldg / Internal replenishment and warehousing activities | Putaways and location changes (includes HighValue Parts)                            | package    | 2484 | 2427 | 2570 | 2070 | 4779 | 3095 | 3377 | ⋯ | 2428 | 2394 | 2508 | 2882 | 2216 | 3541 | 2652 | 3749 | 145,721 | 2,857.27 |\n| 18 | <!----> |    via subinventory transfer from MFGRECEIVE to MFGHUB                              | package    | 1593 | 1617 | 1625 |  969 | 1684 | 2022 | 2093 | ⋯ |  784 |  875 |  873 | 1043 |  893 | 1104 | 1161 | 1379 | 60,812  | 1,192.39 |\n| 19 | <!----> |    via subinventory transfer between warehouse locations (inside MFGHUB)            | package    |  556 |  544 |  584 |  748 | 2865 |  713 |  863 | ⋯ |  225 |   85 |  278 |  447 |  302 |  402 |  252 |  386 | 27,228  | 533.88   |\n| 20 | <!----> |    via move order transfer                                                          | package    |  335 |  266 |  361 |  353 |  230 |  360 |  421 | ⋯ | 1419 | 1434 | 1357 | 1392 | 1021 | 2035 | 1239 | 1984 | 57,681  | 1,131.00 |\n| 21 | <!----> | Packages handled to/from DMC (Damaged Materials Collection)                         | package    |  144 |  213 |  204 |   74 |  212 |  358 |  256 | ⋯ |  350 |  234 |  309 |  236 |  319 |  266 |  256 |  163 | 15,596  | 305.80   |\n| 22 | <!----> |    to/from high racks                                                               | package    |    0 |    0 |    0 |    0 |    0 |    0 |    0 | ⋯ |   49 |   37 |   83 |   53 |   56 |   37 |   67 |   23 | 2,336   | 45.80    |\n| 23 | <!----> |    to/from other locations                                                          | package    |  134 |  211 |  199 |   57 |  191 |  334 |  237 | ⋯ |  283 |  187 |  198 |  157 |  257 |  209 |  176 |  130 | 12,320  | 241.57   |\n| 24 | <!----> |    back to MFGHUB                                                                   | package    |   10 |    2 |    5 |   17 |   21 |   24 |   19 | ⋯ |   18 |   10 |   28 |   26 |    6 |   20 |   13 |   10 | 940     | 18.43    |\n| 25 | <!----> | Packages handled from production (returned parts)                                   | package    |  100 |   74 |   48 |   24 |   43 |  189 |   89 | ⋯ |   56 |   74 |   99 |   58 |  108 |   68 |   61 |   87 | 4,512   | 88.47    |\n| 26 | <!----> | Packages handled for export purposes (send to sisterplants)                         | package    |  128 |   36 |   28 |    0 |   32 |   67 |  180 | ⋯ |   50 |   69 |   81 |   48 |   49 |   52 |   42 |   61 | 4,142   | 81.22    |\n| 27 | <!----> | Number of replenishment orders from warehouse to Supermarket at production building | repl order |  421 |  436 |  258 |  127 |   81 |  202 |  220 | ⋯ |   92 |   74 |  139 |   93 |   91 |   76 |   98 |  142 | 7,455   | 146.18   |\n| 28 | <!----> |    via subinventory transfer                                                        | repl order |  209 |  217 |  127 |   48 |   26 |   84 |   87 | ⋯ |    0 |    1 |    8 |    0 |    1 |    2 |    0 |    6 | 1,913   | 37.51    |\n| 29 | <!----> |    via kanban card scan                                                             | repl order |  212 |  219 |  131 |   79 |   55 |  118 |  133 | ⋯ |   92 |   73 |  131 |   93 |   90 |   74 |   98 |  136 | 5,542   | 108.67   |\n| 30 | <!----> | Number of replenishment orders to Pickface                                          | repl order |  977 | 1189 | 1156 |  368 |  372 | 1064 | 1077 | ⋯ |  768 |  813 | 1060 |  901 |  944 |  996 | 1120 | 1319 | 51,752  | 1,014.75 |\n| 31 | <!----> |    via subinventory transfer                                                        | repl order |  595 |  754 |  758 |  232 |  265 |  699 |  624 | ⋯ |   70 |   70 |   63 |   64 |   70 |   87 |   80 |   98 | 14,724  | 288.71   |\n| 32 | <!----> |    via kanban card scan                                                             | repl order |  382 |  435 |  398 |  136 |  107 |  365 |  453 | ⋯ |  698 |  743 |  997 |  837 |  874 |  909 | 1040 | 1221 | 37,028  | 726.04   |\n\n",
            "text/html": [
              "<table>\n",
              "<caption>A data.frame: 16 × 56</caption>\n",
              "<thead>\n",
              "\t<tr><th></th><th scope=col>AREA</th><th scope=col>INDICATORS</th><th scope=col>UOM</th><th scope=col>W36_2010</th><th scope=col>W37_2010</th><th scope=col>W38_2010</th><th scope=col>W39_2010</th><th scope=col>W40_2010</th><th scope=col>W41_2010</th><th scope=col>W42_2010</th><th scope=col>⋯</th><th scope=col>W27_2011</th><th scope=col>W28_2011</th><th scope=col>W29_2011</th><th scope=col>W30_2011</th><th scope=col>W31_2011</th><th scope=col>W32_2011</th><th scope=col>W33_2011</th><th scope=col>W34_2011</th><th scope=col>SUM</th><th scope=col>AVG</th></tr>\n",
              "\t<tr><th></th><th scope=col>&lt;chr&gt;</th><th scope=col>&lt;chr&gt;</th><th scope=col>&lt;chr&gt;</th><th scope=col>&lt;int&gt;</th><th scope=col>&lt;int&gt;</th><th scope=col>&lt;int&gt;</th><th scope=col>&lt;int&gt;</th><th scope=col>&lt;int&gt;</th><th scope=col>&lt;int&gt;</th><th scope=col>&lt;int&gt;</th><th scope=col>⋯</th><th scope=col>&lt;int&gt;</th><th scope=col>&lt;int&gt;</th><th scope=col>&lt;int&gt;</th><th scope=col>&lt;int&gt;</th><th scope=col>&lt;int&gt;</th><th scope=col>&lt;int&gt;</th><th scope=col>&lt;int&gt;</th><th scope=col>&lt;int&gt;</th><th scope=col>&lt;chr&gt;</th><th scope=col>&lt;chr&gt;</th></tr>\n",
              "</thead>\n",
              "<tbody>\n",
              "\t<tr><th scope=row>17</th><td>WHS bldg / Internal replenishment and warehousing activities</td><td>Putaways and location changes (includes HighValue Parts)                           </td><td>package   </td><td>2484</td><td>2427</td><td>2570</td><td>2070</td><td>4779</td><td>3095</td><td>3377</td><td>⋯</td><td>2428</td><td>2394</td><td>2508</td><td>2882</td><td>2216</td><td>3541</td><td>2652</td><td>3749</td><td>145,721</td><td>2,857.27</td></tr>\n",
              "\t<tr><th scope=row>18</th><td>                                                            </td><td>   via subinventory transfer from MFGRECEIVE to MFGHUB                             </td><td>package   </td><td>1593</td><td>1617</td><td>1625</td><td> 969</td><td>1684</td><td>2022</td><td>2093</td><td>⋯</td><td> 784</td><td> 875</td><td> 873</td><td>1043</td><td> 893</td><td>1104</td><td>1161</td><td>1379</td><td>60,812 </td><td>1,192.39</td></tr>\n",
              "\t<tr><th scope=row>19</th><td>                                                            </td><td>   via subinventory transfer between warehouse locations (inside MFGHUB)           </td><td>package   </td><td> 556</td><td> 544</td><td> 584</td><td> 748</td><td>2865</td><td> 713</td><td> 863</td><td>⋯</td><td> 225</td><td>  85</td><td> 278</td><td> 447</td><td> 302</td><td> 402</td><td> 252</td><td> 386</td><td>27,228 </td><td>533.88  </td></tr>\n",
              "\t<tr><th scope=row>20</th><td>                                                            </td><td>   via move order transfer                                                         </td><td>package   </td><td> 335</td><td> 266</td><td> 361</td><td> 353</td><td> 230</td><td> 360</td><td> 421</td><td>⋯</td><td>1419</td><td>1434</td><td>1357</td><td>1392</td><td>1021</td><td>2035</td><td>1239</td><td>1984</td><td>57,681 </td><td>1,131.00</td></tr>\n",
              "\t<tr><th scope=row>21</th><td>                                                            </td><td>Packages handled to/from DMC (Damaged Materials Collection)                        </td><td>package   </td><td> 144</td><td> 213</td><td> 204</td><td>  74</td><td> 212</td><td> 358</td><td> 256</td><td>⋯</td><td> 350</td><td> 234</td><td> 309</td><td> 236</td><td> 319</td><td> 266</td><td> 256</td><td> 163</td><td>15,596 </td><td>305.80  </td></tr>\n",
              "\t<tr><th scope=row>22</th><td>                                                            </td><td>   to/from high racks                                                              </td><td>package   </td><td>   0</td><td>   0</td><td>   0</td><td>   0</td><td>   0</td><td>   0</td><td>   0</td><td>⋯</td><td>  49</td><td>  37</td><td>  83</td><td>  53</td><td>  56</td><td>  37</td><td>  67</td><td>  23</td><td>2,336  </td><td>45.80   </td></tr>\n",
              "\t<tr><th scope=row>23</th><td>                                                            </td><td>   to/from other locations                                                         </td><td>package   </td><td> 134</td><td> 211</td><td> 199</td><td>  57</td><td> 191</td><td> 334</td><td> 237</td><td>⋯</td><td> 283</td><td> 187</td><td> 198</td><td> 157</td><td> 257</td><td> 209</td><td> 176</td><td> 130</td><td>12,320 </td><td>241.57  </td></tr>\n",
              "\t<tr><th scope=row>24</th><td>                                                            </td><td>   back to MFGHUB                                                                  </td><td>package   </td><td>  10</td><td>   2</td><td>   5</td><td>  17</td><td>  21</td><td>  24</td><td>  19</td><td>⋯</td><td>  18</td><td>  10</td><td>  28</td><td>  26</td><td>   6</td><td>  20</td><td>  13</td><td>  10</td><td>940    </td><td>18.43   </td></tr>\n",
              "\t<tr><th scope=row>25</th><td>                                                            </td><td>Packages handled from production (returned parts)                                  </td><td>package   </td><td> 100</td><td>  74</td><td>  48</td><td>  24</td><td>  43</td><td> 189</td><td>  89</td><td>⋯</td><td>  56</td><td>  74</td><td>  99</td><td>  58</td><td> 108</td><td>  68</td><td>  61</td><td>  87</td><td>4,512  </td><td>88.47   </td></tr>\n",
              "\t<tr><th scope=row>26</th><td>                                                            </td><td>Packages handled for export purposes (send to sisterplants)                        </td><td>package   </td><td> 128</td><td>  36</td><td>  28</td><td>   0</td><td>  32</td><td>  67</td><td> 180</td><td>⋯</td><td>  50</td><td>  69</td><td>  81</td><td>  48</td><td>  49</td><td>  52</td><td>  42</td><td>  61</td><td>4,142  </td><td>81.22   </td></tr>\n",
              "\t<tr><th scope=row>27</th><td>                                                            </td><td>Number of replenishment orders from warehouse to Supermarket at production building</td><td>repl order</td><td> 421</td><td> 436</td><td> 258</td><td> 127</td><td>  81</td><td> 202</td><td> 220</td><td>⋯</td><td>  92</td><td>  74</td><td> 139</td><td>  93</td><td>  91</td><td>  76</td><td>  98</td><td> 142</td><td>7,455  </td><td>146.18  </td></tr>\n",
              "\t<tr><th scope=row>28</th><td>                                                            </td><td>   via subinventory transfer                                                       </td><td>repl order</td><td> 209</td><td> 217</td><td> 127</td><td>  48</td><td>  26</td><td>  84</td><td>  87</td><td>⋯</td><td>   0</td><td>   1</td><td>   8</td><td>   0</td><td>   1</td><td>   2</td><td>   0</td><td>   6</td><td>1,913  </td><td>37.51   </td></tr>\n",
              "\t<tr><th scope=row>29</th><td>                                                            </td><td>   via kanban card scan                                                            </td><td>repl order</td><td> 212</td><td> 219</td><td> 131</td><td>  79</td><td>  55</td><td> 118</td><td> 133</td><td>⋯</td><td>  92</td><td>  73</td><td> 131</td><td>  93</td><td>  90</td><td>  74</td><td>  98</td><td> 136</td><td>5,542  </td><td>108.67  </td></tr>\n",
              "\t<tr><th scope=row>30</th><td>                                                            </td><td>Number of replenishment orders to Pickface                                         </td><td>repl order</td><td> 977</td><td>1189</td><td>1156</td><td> 368</td><td> 372</td><td>1064</td><td>1077</td><td>⋯</td><td> 768</td><td> 813</td><td>1060</td><td> 901</td><td> 944</td><td> 996</td><td>1120</td><td>1319</td><td>51,752 </td><td>1,014.75</td></tr>\n",
              "\t<tr><th scope=row>31</th><td>                                                            </td><td>   via subinventory transfer                                                       </td><td>repl order</td><td> 595</td><td> 754</td><td> 758</td><td> 232</td><td> 265</td><td> 699</td><td> 624</td><td>⋯</td><td>  70</td><td>  70</td><td>  63</td><td>  64</td><td>  70</td><td>  87</td><td>  80</td><td>  98</td><td>14,724 </td><td>288.71  </td></tr>\n",
              "\t<tr><th scope=row>32</th><td>                                                            </td><td>   via kanban card scan                                                            </td><td>repl order</td><td> 382</td><td> 435</td><td> 398</td><td> 136</td><td> 107</td><td> 365</td><td> 453</td><td>⋯</td><td> 698</td><td> 743</td><td> 997</td><td> 837</td><td> 874</td><td> 909</td><td>1040</td><td>1221</td><td>37,028 </td><td>726.04  </td></tr>\n",
              "</tbody>\n",
              "</table>\n"
            ]
          },
          "metadata": {
            "tags": []
          }
        }
      ]
    }
  ]
}